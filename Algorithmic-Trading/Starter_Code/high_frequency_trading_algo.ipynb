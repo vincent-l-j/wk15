{
 "cells": [
  {
   "cell_type": "markdown",
   "metadata": {},
   "source": [
    "# High Frequency Trading Algorithm\n",
    "\n",
    "You have been tasked by the investment firm Renaissance High Frequency Trading (RHFT) to develop an automated trading strategy utilizing a combination of machine learning algorithms and high frequency algorithms. RHFT wants this new algorithm to be based on stock market data of the 30 stocks in the Dow Jones at the minute level and to conduct buys and sells every minute based on 1 min, 5 min, and 10 min Momentum. The CIO asked you to choose the Machine Learning Algorithm best suited for this task and wants you to execute the trades via Alpaca's API."
   ]
  },
  {
   "cell_type": "markdown",
   "metadata": {},
   "source": [
    "### Initial Set-Up"
   ]
  },
  {
   "cell_type": "code",
   "execution_count": 1,
   "metadata": {},
   "outputs": [],
   "source": [
    "import os\n",
    "from pathlib import Path\n",
    "import alpaca_trade_api as tradeapi\n",
    "import pandas as pd\n",
    "import numpy as np\n",
    "import datetime\n",
    "import time\n",
    "from dotenv import load_dotenv\n",
    "import matplotlib.pyplot as plt\n"
   ]
  },
  {
   "cell_type": "code",
   "execution_count": 2,
   "metadata": {},
   "outputs": [
    {
     "data": {
      "text/plain": [
       "True"
      ]
     },
     "execution_count": 2,
     "metadata": {},
     "output_type": "execute_result"
    }
   ],
   "source": [
    "# Load .env enviroment variables\n",
    "load_dotenv('../.env')"
   ]
  },
  {
   "cell_type": "code",
   "execution_count": 3,
   "metadata": {},
   "outputs": [],
   "source": [
    "# Set Alpaca API key and secret\n",
    "API_KEY = os.getenv('ALPACA_API_KEY')\n",
    "API_SECRET = os.getenv('ALPACA_SECRET_KEY')\n"
   ]
  },
  {
   "cell_type": "code",
   "execution_count": 4,
   "metadata": {},
   "outputs": [],
   "source": [
    "# Create the Alpaca API object, specifying use of the paper trading account:\n",
    "ALPACA_API_BASE_URL = \"https://paper-api.alpaca.markets\"\n",
    "# Create a connection to the API \n",
    "api = tradeapi.REST(API_KEY, API_SECRET, ALPACA_API_BASE_URL, api_version=\"v2\")"
   ]
  },
  {
   "cell_type": "markdown",
   "metadata": {},
   "source": [
    "## Part 2: Train and Compare Multiple Machine Learning Algorithms\n",
    "\n",
    " In this section, you'll train each of the requested algorithms and compare performance. Be sure to use the same parameters and training steps for each model. This is necessary to compare each model accurately.\n",
    "\n",
    "### Preprocessing Data\n",
    "\n",
    "#### 1. Generate your feature data (`X`) and target data (`y`):\n",
    "* Create a dataframe `X` that contains all the columns from the returns dataframe that will be used to predict `F_1_m_returns`.\n",
    "* Create a variable, called `y`, that is equal 1 if `F_1_m_returns` is larger than 0. This will be our target variable."
   ]
  },
  {
   "cell_type": "code",
   "execution_count": 5,
   "metadata": {},
   "outputs": [
    {
     "data": {
      "text/html": [
       "<div>\n",
       "<style scoped>\n",
       "    .dataframe tbody tr th:only-of-type {\n",
       "        vertical-align: middle;\n",
       "    }\n",
       "\n",
       "    .dataframe tbody tr th {\n",
       "        vertical-align: top;\n",
       "    }\n",
       "\n",
       "    .dataframe thead th {\n",
       "        text-align: right;\n",
       "    }\n",
       "</style>\n",
       "<table border=\"1\" class=\"dataframe\">\n",
       "  <thead>\n",
       "    <tr style=\"text-align: right;\">\n",
       "      <th></th>\n",
       "      <th></th>\n",
       "      <th>F_1_m_returns</th>\n",
       "      <th>1_m_returns</th>\n",
       "      <th>5_m_returns</th>\n",
       "      <th>10_m_returns</th>\n",
       "    </tr>\n",
       "    <tr>\n",
       "      <th>level_0</th>\n",
       "      <th>level_1</th>\n",
       "      <th></th>\n",
       "      <th></th>\n",
       "      <th></th>\n",
       "      <th></th>\n",
       "    </tr>\n",
       "  </thead>\n",
       "  <tbody>\n",
       "    <tr>\n",
       "      <th rowspan=\"5\" valign=\"top\">FB</th>\n",
       "      <th>2021-01-05 09:40:00-05:00</th>\n",
       "      <td>0.000814</td>\n",
       "      <td>0.000074</td>\n",
       "      <td>0.001260</td>\n",
       "      <td>0.004758</td>\n",
       "    </tr>\n",
       "    <tr>\n",
       "      <th>2021-01-05 09:41:00-05:00</th>\n",
       "      <td>0.000887</td>\n",
       "      <td>0.000814</td>\n",
       "      <td>0.001889</td>\n",
       "      <td>0.004941</td>\n",
       "    </tr>\n",
       "    <tr>\n",
       "      <th>2021-01-05 09:42:00-05:00</th>\n",
       "      <td>0.000628</td>\n",
       "      <td>0.000887</td>\n",
       "      <td>0.001999</td>\n",
       "      <td>0.003782</td>\n",
       "    </tr>\n",
       "    <tr>\n",
       "      <th>2021-01-05 09:43:00-05:00</th>\n",
       "      <td>0.000480</td>\n",
       "      <td>0.000628</td>\n",
       "      <td>0.003408</td>\n",
       "      <td>0.007850</td>\n",
       "    </tr>\n",
       "    <tr>\n",
       "      <th>2021-01-05 09:44:00-05:00</th>\n",
       "      <td>-0.001291</td>\n",
       "      <td>0.000480</td>\n",
       "      <td>0.002886</td>\n",
       "      <td>0.005416</td>\n",
       "    </tr>\n",
       "  </tbody>\n",
       "</table>\n",
       "</div>"
      ],
      "text/plain": [
       "                                   F_1_m_returns  1_m_returns  5_m_returns  \\\n",
       "level_0 level_1                                                              \n",
       "FB      2021-01-05 09:40:00-05:00       0.000814     0.000074     0.001260   \n",
       "        2021-01-05 09:41:00-05:00       0.000887     0.000814     0.001889   \n",
       "        2021-01-05 09:42:00-05:00       0.000628     0.000887     0.001999   \n",
       "        2021-01-05 09:43:00-05:00       0.000480     0.000628     0.003408   \n",
       "        2021-01-05 09:44:00-05:00      -0.001291     0.000480     0.002886   \n",
       "\n",
       "                                   10_m_returns  \n",
       "level_0 level_1                                  \n",
       "FB      2021-01-05 09:40:00-05:00      0.004758  \n",
       "        2021-01-05 09:41:00-05:00      0.004941  \n",
       "        2021-01-05 09:42:00-05:00      0.003782  \n",
       "        2021-01-05 09:43:00-05:00      0.007850  \n",
       "        2021-01-05 09:44:00-05:00      0.005416  "
      ]
     },
     "execution_count": 5,
     "metadata": {},
     "output_type": "execute_result"
    }
   ],
   "source": [
    "# Load the dataset returns.csv and set the index to level_0 and time\n",
    "df_returns = pd.read_csv('returns.csv', index_col=['level_0','level_1'])\n",
    "df_returns.head()"
   ]
  },
  {
   "cell_type": "code",
   "execution_count": 6,
   "metadata": {},
   "outputs": [],
   "source": [
    "# Create a separate dataframe for features and define the target variable as a binary target\n",
    "target_col = 'F_1_m_returns'\n",
    "X = df_returns.drop(columns=target_col)\n",
    "\n",
    "# Create the target variable\n",
    "y = np.where(df_returns[target_col] > 0, 1, 0)\n"
   ]
  },
  {
   "cell_type": "markdown",
   "metadata": {},
   "source": [
    "##### Note:\n",
    "> Notice that we don't use shuffle when splitting the dataset into a training and testing dataset. \n",
    "\n",
    "> We want to keep the original ordering of the data, so we don't end up using observations in the future to predict past observations,\n",
    "\n",
    "> This is a critical mistake known as look ahead bias."
   ]
  },
  {
   "cell_type": "markdown",
   "metadata": {},
   "source": [
    "#### 2. Use the train_test_split library to split the dataset into a training and testing dataset, with 70% used for testing\n",
    "* Set the shuffle parameter to False, so that you use the first 70% for training to prvent look ahead bias.\n",
    "* Make sure you have these 4 variables: `X_train`, `X_test`, `y_train`, `y_test`. "
   ]
  },
  {
   "cell_type": "code",
   "execution_count": 7,
   "metadata": {},
   "outputs": [],
   "source": [
    "# Import train_test_split \n",
    "from sklearn.model_selection import train_test_split\n",
    "\n",
    "# Split the dataset without shuffling\n",
    "X_train, X_test, y_train, y_test = train_test_split(X, y, test_size=0.3, shuffle=False)"
   ]
  },
  {
   "cell_type": "code",
   "execution_count": 8,
   "metadata": {},
   "outputs": [
    {
     "name": "stdout",
     "output_type": "stream",
     "text": [
      "Index(['FB', 'AMZN', 'AAPL', 'NFLX', 'GOOGL', 'MSFT', 'TSLA'], dtype='object', name='level_0')\n",
      "Index(['GOOGL', 'MSFT', 'TSLA'], dtype='object', name='level_0')\n",
      "This train_test_split doesn't split properly\n"
     ]
    }
   ],
   "source": [
    "X_train, X_test, y_train, y_test = train_test_split(X, y, test_size=0.3, shuffle=False)\n",
    "print(X.index.droplevel(1).unique())\n",
    "print(X_test.index.droplevel(1).unique())\n",
    "print(\"This train_test_split doesn't split properly\")\n"
   ]
  },
  {
   "cell_type": "markdown",
   "metadata": {},
   "source": [
    "#### 3. Use the `Counter` function to test the distribution of the data. \n",
    "* The result of `Counter({1: 668, 0: 1194})` reveals the data is indeed unbalanced."
   ]
  },
  {
   "cell_type": "code",
   "execution_count": 9,
   "metadata": {},
   "outputs": [
    {
     "data": {
      "text/plain": [
       "Counter({1: 668, 0: 1194})"
      ]
     },
     "execution_count": 9,
     "metadata": {},
     "output_type": "execute_result"
    }
   ],
   "source": [
    "# Import the Counter function from the collections library\n",
    "from collections import Counter\n",
    "\n",
    "# Use Counter to count the number 1s and 0 in y_train\n",
    "Counter(y_train)\n",
    "# Counter({1: 668, 0: 1194})\n"
   ]
  },
  {
   "cell_type": "markdown",
   "metadata": {},
   "source": [
    "#### 4. Balance the dataset with the Oversampler libary, setting `random state= 1`."
   ]
  },
  {
   "cell_type": "code",
   "execution_count": 10,
   "metadata": {},
   "outputs": [],
   "source": [
    "# Import RandomOverSampler from the imblearn library\n",
    "from imblearn.over_sampling import RandomOverSampler\n",
    "\n",
    "# Use RandomOverSampler to resample the datase using random_state=1\n",
    "ros = RandomOverSampler(random_state=1)\n",
    "X_resampled, y_resampled = ros.fit_resample(X_train, y_train)"
   ]
  },
  {
   "cell_type": "markdown",
   "metadata": {},
   "source": [
    "#### 5. Test the distribution once again with `Counter`. The new result of `Counter({1: 1194, 0: 1194})` shows the data is now balanced."
   ]
  },
  {
   "cell_type": "code",
   "execution_count": 11,
   "metadata": {},
   "outputs": [
    {
     "data": {
      "text/plain": [
       "Counter({1: 1194, 0: 1194})"
      ]
     },
     "execution_count": 11,
     "metadata": {},
     "output_type": "execute_result"
    }
   ],
   "source": [
    "# Use Counter again to verify imbalance removed\n",
    "Counter(y_resampled)\n",
    "# Counter({1: 1194, 0: 1194})\n"
   ]
  },
  {
   "cell_type": "markdown",
   "metadata": {},
   "source": [
    "# Machine Learning\n",
    "\n",
    "#### 1. The first cells in this section provide an example of how to fit and train your model using the `LogisticRegression` model from sklearn:\n",
    "* Import select model.\n",
    "* Instantiate model object.\n",
    "* Fit the model to the resampled data - `X_resampled` and `y_resampled`.\n",
    "* Predict the model using `X_test`.\n",
    "* Print the classification report."
   ]
  },
  {
   "cell_type": "code",
   "execution_count": 12,
   "metadata": {},
   "outputs": [],
   "source": [
    "# Import classification_report from sklearn\n",
    "from sklearn.metrics import classification_report"
   ]
  },
  {
   "cell_type": "code",
   "execution_count": 13,
   "metadata": {},
   "outputs": [
    {
     "name": "stdout",
     "output_type": "stream",
     "text": [
      "              precision    recall  f1-score   support\n",
      "\n",
      "           0     0.5365    0.5259    0.5312       405\n",
      "           1     0.5212    0.5318    0.5264       393\n",
      "\n",
      "    accuracy                         0.5288       798\n",
      "   macro avg     0.5289    0.5289    0.5288       798\n",
      "weighted avg     0.5290    0.5288    0.5288       798\n",
      "\n",
      "The cumulative returns are incorrect. They should be cumulatively multiplied for each stock and the returns of each stock summed up for the total returns.\n"
     ]
    },
    {
     "data": {
      "image/png": "[encoded data removed]",
      "text/plain": [
       "<Figure size 432x288 with 1 Axes>"
      ]
     },
     "metadata": {
      "needs_background": "light"
     },
     "output_type": "display_data"
    }
   ],
   "source": [
    "# Import LogisticRegression from sklearn\n",
    "from sklearn.linear_model import LogisticRegression\n",
    "\n",
    "# Create a LogisticRegression model and train it on the X_resampled data we created before\n",
    "log_model = LogisticRegression()\n",
    "log_model.fit(X_resampled, y_resampled)  \n",
    "\n",
    "# Use the model you trained to predict using X_test\n",
    "y_pred = log_model.predict(X_test)\n",
    "\n",
    "# Print out a classification report toevaluate performance\n",
    "print(classification_report(y_test, y_pred, digits=4))\n",
    "\n",
    "# Create a predictions DataFrame\n",
    "pred_df = pd.DataFrame(index=X_test.index)\n",
    "\n",
    "# Add the model predictions to the DataFrame\n",
    "pred_df['Predicted'] = y_pred\n",
    "\n",
    "# Add the actual returns to the DataFrame\n",
    "pred_df['Actual Returns'] = df_returns[target_col]\n",
    "\n",
    "# Add the strategy returns to the DataFrame\n",
    "pred_df['Strategy Returns'] = pred_df['Actual Returns'] * pred_df['Predicted'].shift()\n",
    "\n",
    "cum_df = (1 + pred_df[['Actual Returns', 'Strategy Returns']]).cumprod()\n",
    "title = \"Logistic Regression\"\n",
    "fig = cum_df.plot(title=title).get_figure()\n",
    "# # Save plot as image\n",
    "# fig.savefig(f\"../Images/{title}.png\", bbox_inches='tight')\n",
    "print(\"The cumulative returns are incorrect. They should be cumulatively multiplied for each stock and the returns of each stock summed up for the total returns.\")\n"
   ]
  },
  {
   "cell_type": "code",
   "execution_count": 14,
   "metadata": {},
   "outputs": [
    {
     "data": {
      "text/plain": [
       "Index(['FB', 'AMZN', 'AAPL', 'NFLX', 'GOOGL', 'MSFT', 'TSLA'], dtype='object', name='level_0')"
      ]
     },
     "execution_count": 14,
     "metadata": {},
     "output_type": "execute_result"
    }
   ],
   "source": [
    "pred_df_dict = {s:d.droplevel('level_0', axis='index') for s, d in pred_df.groupby('level_0')}\n",
    "df_pred_returns = pd.concat(pred_df_dict, axis='columns')\n",
    "# df_pred_returns.head()\n",
    "# pred_df.index.droplevel(1).unique()\n",
    "X.index.droplevel(1).unique()"
   ]
  },
  {
   "cell_type": "markdown",
   "metadata": {},
   "source": [
    "#### 2. Use the same approach as above to train and test the following ML Algorithms:\n",
    "* [RandomForestClassifier](https://scikit-learn.org/stable/modules/generated/sklearn.ensemble.RandomForestClassifier.html)\n",
    "* [GradientBoostingClassifier](https://scikit-learn.org/stable/modules/generated/sklearn.ensemble.GradientBoostingClassifier.html)\n",
    "* [AdaBoostClassifier](https://scikit-learn.org/stable/modules/generated/sklearn.ensemble.AdaBoostClassifier.html)\n",
    "* [XGBClassifier](https://xgboost.readthedocs.io/en/latest/python/python_api.html)"
   ]
  },
  {
   "cell_type": "markdown",
   "metadata": {},
   "source": [
    "#### RandomForestClassifier"
   ]
  },
  {
   "cell_type": "code",
   "execution_count": 15,
   "metadata": {},
   "outputs": [
    {
     "name": "stdout",
     "output_type": "stream",
     "text": [
      "              precision    recall  f1-score   support\n",
      "\n",
      "           0     0.4990    0.6247    0.5548       405\n",
      "           1     0.4777    0.3537    0.4064       393\n",
      "\n",
      "    accuracy                         0.4912       798\n",
      "   macro avg     0.4883    0.4892    0.4806       798\n",
      "weighted avg     0.4885    0.4912    0.4817       798\n",
      "\n"
     ]
    }
   ],
   "source": [
    "# Import RandomForestClassifier from sklearn\n",
    "from sklearn.ensemble import RandomForestClassifier\n",
    "\n",
    "# Create a RandomForestClassifier model and train it on the X_resampled data we created before\n",
    "model_rf = RandomForestClassifier()\n",
    "model_rf.fit(X_resampled, y_resampled)\n",
    "\n",
    "# Use the model you trained to predict using X_test\n",
    "y_pred_rf = model_rf.predict(X_test)\n",
    "\n",
    "# Print out a classification report to evaluate performance\n",
    "print(classification_report(y_test, y_pred_rf, digits=4))\n",
    "\n",
    "#               precision    recall  f1-score   support\n",
    "\n",
    "#            0     0.5041    0.6049    0.5499       405\n",
    "#            1     0.4872    0.3868    0.4312       393\n",
    "\n",
    "#     accuracy                         0.4975       798\n",
    "#    macro avg     0.4956    0.4959    0.4906       798\n",
    "# weighted avg     0.4958    0.4975    0.4915       798\n"
   ]
  },
  {
   "cell_type": "markdown",
   "metadata": {},
   "source": [
    "#### GradientBoostingClassifier"
   ]
  },
  {
   "cell_type": "code",
   "execution_count": 16,
   "metadata": {},
   "outputs": [
    {
     "name": "stdout",
     "output_type": "stream",
     "text": [
      "              precision    recall  f1-score   support\n",
      "\n",
      "           0     0.4988    0.5136    0.5061       405\n",
      "           1     0.4829    0.4682    0.4755       393\n",
      "\n",
      "    accuracy                         0.4912       798\n",
      "   macro avg     0.4909    0.4909    0.4908       798\n",
      "weighted avg     0.4910    0.4912    0.4910       798\n",
      "\n"
     ]
    }
   ],
   "source": [
    "# Import RandomForestClassifier from sklearn\n",
    "from sklearn.ensemble import GradientBoostingClassifier\n",
    "\n",
    "# Create a GradientBoostingClassifier model and train it on the X_resampled data we created before\n",
    "model_gb = GradientBoostingClassifier()\n",
    "model_gb.fit(X_resampled, y_resampled)\n",
    "\n",
    "# Use the model you trained to predict using X_test\n",
    "y_pred_gb = model_gb.predict(X_test)\n",
    "\n",
    "# Print out a classification report to evaluate performance\n",
    "print(classification_report(y_test, y_pred_gb, digits=4))\n",
    "#               precision    recall  f1-score   support\n",
    "\n",
    "#            0     0.4976    0.5136    0.5055       405\n",
    "#            1     0.4816    0.4656    0.4735       393\n",
    "\n",
    "#     accuracy                         0.4900       798\n",
    "#    macro avg     0.4896    0.4896    0.4895       798\n",
    "# weighted avg     0.4897    0.4900    0.4897       798\n"
   ]
  },
  {
   "cell_type": "markdown",
   "metadata": {},
   "source": [
    "#### AdaBoostClassifier"
   ]
  },
  {
   "cell_type": "code",
   "execution_count": 17,
   "metadata": {},
   "outputs": [
    {
     "name": "stdout",
     "output_type": "stream",
     "text": [
      "              precision    recall  f1-score   support\n",
      "\n",
      "           0     0.4951    0.3753    0.4270       405\n",
      "           1     0.4847    0.6056    0.5385       393\n",
      "\n",
      "    accuracy                         0.4887       798\n",
      "   macro avg     0.4899    0.4905    0.4827       798\n",
      "weighted avg     0.4900    0.4887    0.4819       798\n",
      "\n"
     ]
    }
   ],
   "source": [
    "# Import RandomForestClassifier from sklearn\n",
    "from sklearn.ensemble import AdaBoostClassifier\n",
    "\n",
    "# Create a AdaBoostClassifier model and train it on the X_resampled data we created before\n",
    "model_ab = AdaBoostClassifier()\n",
    "model_ab.fit(X_resampled, y_resampled)\n",
    "\n",
    "# Use the model you trained to predict using X_test\n",
    "y_pred_ab = model_ab.predict(X_test)\n",
    "\n",
    "# Print out a classification report to evaluate performance\n",
    "print(classification_report(y_test, y_pred_ab, digits=4))\n",
    "#               precision    recall  f1-score   support\n",
    "\n",
    "#            0     0.4951    0.3753    0.4270       405\n",
    "#            1     0.4847    0.6056    0.5385       393\n",
    "\n",
    "#     accuracy                         0.4887       798\n",
    "#    macro avg     0.4899    0.4905    0.4827       798\n",
    "# weighted avg     0.4900z    0.4887    0.4819       798"
   ]
  },
  {
   "cell_type": "markdown",
   "metadata": {},
   "source": [
    "#### XGBClassifier"
   ]
  },
  {
   "cell_type": "code",
   "execution_count": 18,
   "metadata": {},
   "outputs": [
    {
     "name": "stderr",
     "output_type": "stream",
     "text": [
      "C:\\Users\\Vincent\\.conda\\envs\\wk15\\lib\\site-packages\\xgboost\\compat.py:36: FutureWarning: pandas.Int64Index is deprecated and will be removed from pandas in a future version. Use pandas.Index with the appropriate dtype instead.\n",
      "  from pandas import MultiIndex, Int64Index\n",
      "C:\\Users\\Vincent\\.conda\\envs\\wk15\\lib\\site-packages\\xgboost\\sklearn.py:1224: UserWarning: The use of label encoder in XGBClassifier is deprecated and will be removed in a future release. To remove this warning, do the following: 1) Pass option use_label_encoder=False when constructing XGBClassifier object; and 2) Encode your labels (y) as integers starting with 0, i.e. 0, 1, 2, ..., [num_class - 1].\n",
      "  warnings.warn(label_encoder_deprecation_msg, UserWarning)\n",
      "C:\\Users\\Vincent\\.conda\\envs\\wk15\\lib\\site-packages\\xgboost\\data.py:262: FutureWarning: pandas.Int64Index is deprecated and will be removed from pandas in a future version. Use pandas.Index with the appropriate dtype instead.\n",
      "  elif isinstance(data.columns, (pd.Int64Index, pd.RangeIndex)):\n"
     ]
    },
    {
     "name": "stdout",
     "output_type": "stream",
     "text": [
      "[21:55:06] WARNING: C:/Users/Administrator/workspace/xgboost-win64_release_1.5.1/src/learner.cc:1115: Starting in XGBoost 1.3.0, the default evaluation metric used with the objective 'binary:logistic' was changed from 'error' to 'logloss'. Explicitly set eval_metric if you'd like to restore the old behavior.\n",
      "              precision    recall  f1-score   support\n",
      "\n",
      "           0     0.4901    0.5481    0.5175       405\n",
      "           1     0.4696    0.4122    0.4390       393\n",
      "\n",
      "    accuracy                         0.4812       798\n",
      "   macro avg     0.4798    0.4802    0.4783       798\n",
      "weighted avg     0.4800    0.4812    0.4788       798\n",
      "\n"
     ]
    }
   ],
   "source": [
    "# Import RandomForestClassifier from sklearn\n",
    "from xgboost import XGBClassifier\n",
    "\n",
    "# Create a XGBClassifier model and train it on the X_resampled data we created before\n",
    "model_xgb = XGBClassifier()\n",
    "model_xgb.fit(X_resampled, y_resampled)\n",
    "\n",
    "# Use the model you trained to predict using X_test\n",
    "y_pred_xgb = model_xgb.predict(X_test)\n",
    "\n",
    "# Print out a classification report to evaluate performance\n",
    "print(classification_report(y_test, y_pred_xgb, digits=4))\n",
    "\n",
    "\n",
    "# C:\\Users\\lorie\\Anaconda3\\envs\\pyvizenv25\\lib\\site-packages\\xgboost\\sklearn.py:888: UserWarning: The use of label encoder in XGBClassifier is deprecated and will be removed in a future release. To remove this warning, do the following: 1) Pass option use_label_encoder=False when constructing XGBClassifier object; and 2) Encode your labels (y) as integers starting with 0, i.e. 0, 1, 2, ..., [num_class - 1].\n",
    "#   warnings.warn(label_encoder_deprecation_msg, UserWarning)\n",
    "# [15:23:46] WARNING: C:/Users/Administrator/workspace/xgboost-win64_release_1.3.0/src/learner.cc:1061: Starting in XGBoost 1.3.0, the default evaluation metric used with the objective 'binary:logistic' was changed from 'error' to 'logloss'. Explicitly set eval_metric if you'd like to restore the old behavior.\n",
    "\n",
    "#               precision    recall  f1-score   support\n",
    "\n",
    "#            0     0.4901    0.5481    0.5175       405\n",
    "#            1     0.4696    0.4122    0.4390       393\n",
    "\n",
    "#     accuracy                         0.4812       798\n",
    "#    macro avg     0.4798    0.4802    0.4783       798\n",
    "# weighted avg     0.4800    0.4812    0.4788       798"
   ]
  },
  {
   "cell_type": "markdown",
   "metadata": {},
   "source": [
    "### Evaluate the performance of each model\n"
   ]
  },
  {
   "cell_type": "markdown",
   "metadata": {},
   "source": [
    "#### 1. Using the classification report for each model, choose the model with the highest precision for use in your algo-trading program.\n",
    "#### 2. Save the selected model with the `joblib` libary to avoid retraining every time you wish to use it."
   ]
  },
  {
   "cell_type": "code",
   "execution_count": 19,
   "metadata": {},
   "outputs": [
    {
     "data": {
      "text/plain": [
       "['log_model.pkl']"
      ]
     },
     "execution_count": 19,
     "metadata": {},
     "output_type": "execute_result"
    }
   ],
   "source": [
    "# Import the joblib library \n",
    "import joblib\n",
    "\n",
    "# Use the library to save the model that you want to use for trading\n",
    "joblib.dump(log_model, 'log_model.pkl')"
   ]
  },
  {
   "cell_type": "markdown",
   "metadata": {},
   "source": [
    "## Part 3: Implement the strongest model using Apaca API"
   ]
  },
  {
   "cell_type": "markdown",
   "metadata": {},
   "source": [
    "### Develop the Algorithm\n"
   ]
  },
  {
   "cell_type": "markdown",
   "metadata": {},
   "source": [
    "#### 1. Use the provided code to ping the Alpaca API and create the DataFrame needed to feed data into the model.\n",
    "   * This code will also store the correct feature data in `X` for later use."
   ]
  },
  {
   "cell_type": "code",
   "execution_count": 20,
   "metadata": {},
   "outputs": [
    {
     "name": "stdout",
     "output_type": "stream",
     "text": [
      "                               AAPL       AMZN        FB     GOOGL      MSFT  \\\n",
      "timestamp                                                                      \n",
      "2021-01-06 20:50:00+00:00  127.0200  3140.9000  263.5300  1721.630  212.6501   \n",
      "2021-01-06 20:51:00+00:00  126.8300  3136.1533  263.2600  1721.205  212.3950   \n",
      "2021-01-06 20:52:00+00:00  126.5916  3134.7493  263.1100  1721.930  212.1600   \n",
      "2021-01-06 20:53:00+00:00  126.7200  3135.0300  263.4625  1722.860  212.2818   \n",
      "2021-01-06 20:54:00+00:00  126.8300  3139.9400  263.9950  1724.340  212.4200   \n",
      "2021-01-06 20:55:00+00:00  126.5900  3137.0700  263.5100  1723.480  212.1850   \n",
      "2021-01-06 20:56:00+00:00  126.4900  3135.2950  263.3700  1723.340  212.1300   \n",
      "2021-01-06 20:57:00+00:00  126.7650  3138.4800  263.4500  1725.020  212.3229   \n",
      "2021-01-06 20:58:00+00:00  126.6199  3136.1300  263.3500  1724.630  212.2150   \n",
      "2021-01-06 20:59:00+00:00  126.6200  3138.0100  263.3050  1723.380  212.2200   \n",
      "2021-01-06 21:00:00+00:00  126.4000  3138.3800  263.3100  1722.880  212.1800   \n",
      "\n",
      "                              NFLX      TSLA  \n",
      "timestamp                                     \n",
      "2021-01-06 20:50:00+00:00  503.390  757.5900  \n",
      "2021-01-06 20:51:00+00:00  503.005  757.9403  \n",
      "2021-01-06 20:52:00+00:00  502.410  755.8950  \n",
      "2021-01-06 20:53:00+00:00  502.440  756.2900  \n",
      "2021-01-06 20:54:00+00:00  502.960  756.4670  \n",
      "2021-01-06 20:55:00+00:00  502.510  755.0672  \n",
      "2021-01-06 20:56:00+00:00  501.810  756.3600  \n",
      "2021-01-06 20:57:00+00:00  501.320  756.9700  \n",
      "2021-01-06 20:58:00+00:00  500.190  756.1300  \n",
      "2021-01-06 20:59:00+00:00  500.260  756.4600  \n",
      "2021-01-06 21:00:00+00:00  499.570  755.5100  \n"
     ]
    }
   ],
   "source": [
    "# Create the list of tickers\n",
    "\n",
    "ticker_list = ['FB','AMZN','AAPL','NFLX', 'GOOGL', 'MSFT', 'TSLA']\n",
    "# Define Dates\n",
    "\n",
    "beg_date = '2021-01-06'\n",
    "end_date = '2021-01-06'\n",
    "\n",
    "# Convert the date in a format the Alpaca API reqires\n",
    "# start =  pd.Timestamp(f'{beg_date} 09:30:00-0400', tz='America/New_York').replace(hour=9, minute=30, second=0).astimezone('GMT').isoformat()[:-6]+'Z'\n",
    "# end   =  pd.Timestamp(f'{end_date} 16:00:00-0400', tz='America/New_York').replace(hour=15, minute=0, second=0).astimezone('GMT').isoformat()[:-6]+'Z'\n",
    "start =  pd.Timestamp(f'{beg_date} 09:30:00', tz='America/New_York').isoformat()\n",
    "end   =  pd.Timestamp(f'{end_date} 16:00:00', tz='America/New_York').isoformat()\n",
    "timeframe='1Min'\n",
    "\n",
    "# Use iloc to get the last 10 mins every time we pull new data\n",
    "prices = api.get_bars(\n",
    "    ticker_list,\n",
    "    \"1Min\",\n",
    "    start=start,\n",
    "    end=end,\n",
    "    limit=None,\n",
    ").df\n",
    "\n",
    "prices.ffill(inplace=True)\n",
    "symbol_df_dict = {symbol: sub_df for symbol, sub_df in prices.groupby('symbol')}\n",
    "df_prices = pd.concat(symbol_df_dict, axis='columns')\n",
    "# Create an empty DataFrame for closing prices\n",
    "\n",
    "# Fetch the closing prices of our tickers\n",
    "df_closing_prices = df_prices[pd.MultiIndex.from_product([symbol_df_dict.keys(), ['close']])].droplevel(1, axis='columns').iloc[-11:]\n",
    "# df_closing_prices = df_prices[pd.MultiIndex.from_product([symbol_df_dict.keys(), ['open','high','low','close']])]\n",
    "\n",
    "# print(df_closing_prices.loc['2021-01-06 14:50:00-05:00':'2021-01-06 15:00:00-05:00'])\n",
    "print(df_closing_prices)\n",
    "\n",
    "#                                 FB      AMZN     AAPL    NFLX    GOOGL  \\\n",
    "# time                                                                     \n",
    "# 2021-01-06 14:50:00-05:00  264.610  3146.960  127.110  506.54  1721.82   \n",
    "# 2021-01-06 14:51:00-05:00  264.630  3146.910  127.430  506.54  1721.82   \n",
    "# 2021-01-06 14:52:00-05:00  264.830  3147.980  127.720  506.69  1723.67   \n",
    "# 2021-01-06 14:53:00-05:00  264.525  3148.570  127.510  506.01  1723.67   \n",
    "# 2021-01-06 14:54:00-05:00  264.560  3147.840  127.645  506.01  1720.84   \n",
    "# 2021-01-06 14:55:00-05:00  264.880  3150.330  127.920  506.30  1720.60   \n",
    "# 2021-01-06 14:56:00-05:00  264.965  3150.610  128.150  506.72  1721.10   \n",
    "# 2021-01-06 14:57:00-05:00  264.980  3151.745  127.980  507.07  1720.07   \n",
    "# 2021-01-06 14:58:00-05:00  265.000  3149.280  127.850  506.33  1720.07   \n",
    "# 2021-01-06 14:59:00-05:00  265.360  3150.840  127.930  506.13  1720.48   \n",
    "# 2021-01-06 15:00:00-05:00  264.840  3148.580  127.630  506.43  1720.48   \n",
    "\n",
    "#                               MSFT    TSLA  \n",
    "# time                                        \n",
    "# 2021-01-06 14:50:00-05:00  213.930  753.33  \n",
    "# 2021-01-06 14:51:00-05:00  214.080  757.44  \n",
    "# 2021-01-06 14:52:00-05:00  214.220  759.03  \n",
    "# 2021-01-06 14:53:00-05:00  213.960  756.65  \n",
    "# 2021-01-06 14:54:00-05:00  214.230  759.90  \n",
    "# 2021-01-06 14:55:00-05:00  214.330  762.45  \n",
    "# 2021-01-06 14:56:00-05:00  214.380  763.04  \n",
    "# 2021-01-06 14:57:00-05:00  214.210  763.04  \n",
    "# 2021-01-06 14:58:00-05:00  214.180  762.30  \n",
    "# 2021-01-06 14:59:00-05:00  214.235  761.80  \n",
    "# 2021-01-06 15:00:00-05:00  214.070  761.24"
   ]
  },
  {
   "cell_type": "code",
   "execution_count": 21,
   "metadata": {},
   "outputs": [
    {
     "data": {
      "text/html": [
       "<div>\n",
       "<style scoped>\n",
       "    .dataframe tbody tr th:only-of-type {\n",
       "        vertical-align: middle;\n",
       "    }\n",
       "\n",
       "    .dataframe tbody tr th {\n",
       "        vertical-align: top;\n",
       "    }\n",
       "\n",
       "    .dataframe thead th {\n",
       "        text-align: right;\n",
       "    }\n",
       "</style>\n",
       "<table border=\"1\" class=\"dataframe\">\n",
       "  <thead>\n",
       "    <tr style=\"text-align: right;\">\n",
       "      <th></th>\n",
       "      <th></th>\n",
       "      <th>1_m_returns</th>\n",
       "      <th>5_m_returns</th>\n",
       "      <th>10_m_returns</th>\n",
       "    </tr>\n",
       "    <tr>\n",
       "      <th>level_0</th>\n",
       "      <th>timestamp</th>\n",
       "      <th></th>\n",
       "      <th></th>\n",
       "      <th></th>\n",
       "    </tr>\n",
       "  </thead>\n",
       "  <tbody>\n",
       "    <tr>\n",
       "      <th>AAPL</th>\n",
       "      <th>2021-01-06 21:00:00+00:00</th>\n",
       "      <td>-0.001737</td>\n",
       "      <td>-0.001501</td>\n",
       "      <td>-0.004881</td>\n",
       "    </tr>\n",
       "    <tr>\n",
       "      <th>AMZN</th>\n",
       "      <th>2021-01-06 21:00:00+00:00</th>\n",
       "      <td>0.000118</td>\n",
       "      <td>0.000418</td>\n",
       "      <td>-0.000802</td>\n",
       "    </tr>\n",
       "    <tr>\n",
       "      <th>FB</th>\n",
       "      <th>2021-01-06 21:00:00+00:00</th>\n",
       "      <td>0.000019</td>\n",
       "      <td>-0.000759</td>\n",
       "      <td>-0.000835</td>\n",
       "    </tr>\n",
       "    <tr>\n",
       "      <th>GOOGL</th>\n",
       "      <th>2021-01-06 21:00:00+00:00</th>\n",
       "      <td>-0.000290</td>\n",
       "      <td>-0.000348</td>\n",
       "      <td>0.000726</td>\n",
       "    </tr>\n",
       "    <tr>\n",
       "      <th>MSFT</th>\n",
       "      <th>2021-01-06 21:00:00+00:00</th>\n",
       "      <td>-0.000188</td>\n",
       "      <td>-0.000024</td>\n",
       "      <td>-0.002211</td>\n",
       "    </tr>\n",
       "    <tr>\n",
       "      <th>NFLX</th>\n",
       "      <th>2021-01-06 21:00:00+00:00</th>\n",
       "      <td>-0.001379</td>\n",
       "      <td>-0.005851</td>\n",
       "      <td>-0.007589</td>\n",
       "    </tr>\n",
       "    <tr>\n",
       "      <th>TSLA</th>\n",
       "      <th>2021-01-06 21:00:00+00:00</th>\n",
       "      <td>-0.001256</td>\n",
       "      <td>0.000586</td>\n",
       "      <td>-0.002746</td>\n",
       "    </tr>\n",
       "  </tbody>\n",
       "</table>\n",
       "</div>"
      ],
      "text/plain": [
       "                                   1_m_returns  5_m_returns  10_m_returns\n",
       "level_0 timestamp                                                        \n",
       "AAPL    2021-01-06 21:00:00+00:00    -0.001737    -0.001501     -0.004881\n",
       "AMZN    2021-01-06 21:00:00+00:00     0.000118     0.000418     -0.000802\n",
       "FB      2021-01-06 21:00:00+00:00     0.000019    -0.000759     -0.000835\n",
       "GOOGL   2021-01-06 21:00:00+00:00    -0.000290    -0.000348      0.000726\n",
       "MSFT    2021-01-06 21:00:00+00:00    -0.000188    -0.000024     -0.002211\n",
       "NFLX    2021-01-06 21:00:00+00:00    -0.001379    -0.005851     -0.007589\n",
       "TSLA    2021-01-06 21:00:00+00:00    -0.001256     0.000586     -0.002746"
      ]
     },
     "execution_count": 21,
     "metadata": {},
     "output_type": "execute_result"
    }
   ],
   "source": [
    "# Create list of momentums\n",
    "list_of_momentums = [1,5,10]\n",
    "\n",
    "for i in list_of_momentums:  \n",
    "    # Compute percentage change for each one of the momentums in the momentum list\n",
    "    returns_temp = df_closing_prices.pct_change(i)\n",
    "    # Unstack the returns \n",
    "    returns_temp = pd.DataFrame(returns_temp.unstack())\n",
    "    name = f'{i}_m_returns'\n",
    "    returns_temp.rename(columns={0: name}, inplace = True)\n",
    "    # Reset the index so we can merge based on index\n",
    "    returns_temp.reset_index(inplace = True)\n",
    "    # Merge newly computed returns with previously created returns\n",
    "    if i ==1:\n",
    "        returns = returns_temp\n",
    "    else:\n",
    "        returns = pd.merge(returns,returns_temp,left_on=['level_0', 'timestamp'],right_on=['level_0', 'timestamp'], how='left', suffixes=('_original', 'right'))\n",
    "\n",
    "# Drop nulls and set index\n",
    "returns.dropna(axis=0, how='any', inplace=True)\n",
    "returns.set_index(['level_0', 'timestamp'], inplace=True)\n",
    "\n",
    "# Generate feature data and preview first 10 rows.\n",
    "X = returns\n",
    "X.head(10)\n",
    "\n",
    "\n",
    "# \t\t1_m_returns\t5_m_returns\t10_m_returns\n",
    "# level_0\ttime\t\t\t\n",
    "# FB\t2021-01-06 15:00:00-05:00\t-0.001960\t-0.000151\t0.000869\n",
    "# AMZN\t2021-01-06 15:00:00-05:00\t-0.000717\t-0.000555\t0.000515\n",
    "# AAPL\t2021-01-06 15:00:00-05:00\t-0.002345\t-0.002267\t0.004091\n",
    "# NFLX\t2021-01-06 15:00:00-05:00\t0.000593\t0.000257\t-0.000217\n",
    "# GOOGL\t2021-01-06 15:00:00-05:00\t0.000000\t-0.000070\t-0.000778\n",
    "# MSFT\t2021-01-06 15:00:00-05:00\t-0.000770\t-0.001213\t0.000654\n",
    "# TSLA\t2021-01-06 15:00:00-05:00\t-0.000735\t-0.001587\t0.010500"
   ]
  },
  {
   "cell_type": "markdown",
   "metadata": {},
   "source": [
    "#### 2. Using `joblib`, load the chosen model."
   ]
  },
  {
   "cell_type": "code",
   "execution_count": 22,
   "metadata": {},
   "outputs": [],
   "source": [
    "# Load the previously trained and saved model using joblib\n",
    "model = joblib.load('log_model.pkl')"
   ]
  },
  {
   "cell_type": "markdown",
   "metadata": {},
   "source": [
    "#### 3. Use the model file to make predicttions:\n",
    "* Use `predict` on `X` and save this as `y_pred`.\n",
    "* Convert `y_pred` to a DataFrame, setting the index to the index of `X`.\n",
    "* Rename the column 0 to 'buy', be sure to set `inplace =True`."
   ]
  },
  {
   "cell_type": "code",
   "execution_count": 23,
   "metadata": {},
   "outputs": [
    {
     "data": {
      "text/html": [
       "<div>\n",
       "<style scoped>\n",
       "    .dataframe tbody tr th:only-of-type {\n",
       "        vertical-align: middle;\n",
       "    }\n",
       "\n",
       "    .dataframe tbody tr th {\n",
       "        vertical-align: top;\n",
       "    }\n",
       "\n",
       "    .dataframe thead th {\n",
       "        text-align: right;\n",
       "    }\n",
       "</style>\n",
       "<table border=\"1\" class=\"dataframe\">\n",
       "  <thead>\n",
       "    <tr style=\"text-align: right;\">\n",
       "      <th></th>\n",
       "      <th></th>\n",
       "      <th>buy</th>\n",
       "    </tr>\n",
       "    <tr>\n",
       "      <th>level_0</th>\n",
       "      <th>timestamp</th>\n",
       "      <th></th>\n",
       "    </tr>\n",
       "  </thead>\n",
       "  <tbody>\n",
       "    <tr>\n",
       "      <th>AAPL</th>\n",
       "      <th>2021-01-06 21:00:00+00:00</th>\n",
       "      <td>1</td>\n",
       "    </tr>\n",
       "    <tr>\n",
       "      <th>AMZN</th>\n",
       "      <th>2021-01-06 21:00:00+00:00</th>\n",
       "      <td>0</td>\n",
       "    </tr>\n",
       "    <tr>\n",
       "      <th>FB</th>\n",
       "      <th>2021-01-06 21:00:00+00:00</th>\n",
       "      <td>1</td>\n",
       "    </tr>\n",
       "    <tr>\n",
       "      <th>GOOGL</th>\n",
       "      <th>2021-01-06 21:00:00+00:00</th>\n",
       "      <td>1</td>\n",
       "    </tr>\n",
       "    <tr>\n",
       "      <th>MSFT</th>\n",
       "      <th>2021-01-06 21:00:00+00:00</th>\n",
       "      <td>1</td>\n",
       "    </tr>\n",
       "    <tr>\n",
       "      <th>NFLX</th>\n",
       "      <th>2021-01-06 21:00:00+00:00</th>\n",
       "      <td>1</td>\n",
       "    </tr>\n",
       "    <tr>\n",
       "      <th>TSLA</th>\n",
       "      <th>2021-01-06 21:00:00+00:00</th>\n",
       "      <td>1</td>\n",
       "    </tr>\n",
       "  </tbody>\n",
       "</table>\n",
       "</div>"
      ],
      "text/plain": [
       "                                   buy\n",
       "level_0 timestamp                     \n",
       "AAPL    2021-01-06 21:00:00+00:00    1\n",
       "AMZN    2021-01-06 21:00:00+00:00    0\n",
       "FB      2021-01-06 21:00:00+00:00    1\n",
       "GOOGL   2021-01-06 21:00:00+00:00    1\n",
       "MSFT    2021-01-06 21:00:00+00:00    1\n",
       "NFLX    2021-01-06 21:00:00+00:00    1\n",
       "TSLA    2021-01-06 21:00:00+00:00    1"
      ]
     },
     "execution_count": 23,
     "metadata": {},
     "output_type": "execute_result"
    }
   ],
   "source": [
    "# Use the model file to predict on X\n",
    "y_pred = model.predict(X)\n",
    "\n",
    "# Convert y_pred to a dataframe, set the index to the index of X\n",
    "pred_df = pd.DataFrame(index=X.index)\n",
    "\n",
    "# Rename the column 0 to 'buy', be sure to set inplace =True\n",
    "pred_df['buy'] = y_pred\n",
    "pred_df\n",
    "\n",
    "#                                   buy\n",
    "# level_0\ttime\n",
    "# FB\t2021-01-06 15:00:00-05:00\t1\n",
    "# AMZN\t2021-01-06 15:00:00-05:00\t1\n",
    "# AAPL\t2021-01-06 15:00:00-05:00\t1\n",
    "# NFLX\t2021-01-06 15:00:00-05:00\t0\n",
    "# GOOGL\t2021-01-06 15:00:00-05:00\t1\n",
    "# MSFT\t2021-01-06 15:00:00-05:00\t1\n",
    "# TSLA\t2021-01-06 15:00:00-05:00\t0"
   ]
  },
  {
   "cell_type": "markdown",
   "metadata": {},
   "source": [
    "#### 4. Filter the stocks where 'buy' is equal to 1, saving the filter as `y_pred`."
   ]
  },
  {
   "cell_type": "code",
   "execution_count": 24,
   "metadata": {},
   "outputs": [],
   "source": [
    "# Filter the stocks where 'buy' is equal to 1\n",
    "stocks_to_buy = pred_df.loc[pred_df[\"buy\"] == 1].index.get_level_values(level=0)"
   ]
  },
  {
   "cell_type": "code",
   "execution_count": 25,
   "metadata": {},
   "outputs": [
    {
     "data": {
      "text/plain": [
       "Index(['AAPL', 'FB', 'GOOGL', 'MSFT', 'NFLX', 'TSLA'], dtype='object', name='level_0')"
      ]
     },
     "execution_count": 25,
     "metadata": {},
     "output_type": "execute_result"
    }
   ],
   "source": [
    "# Filter the stocks where 'buy' is equal to 1\n",
    "stocks_to_buy = pred_df.loc[y_pred == 1].index.get_level_values(level=0)\n",
    "stocks_to_buy"
   ]
  },
  {
   "cell_type": "markdown",
   "metadata": {},
   "source": [
    "#### 5. Using the `y_pred` filter, create a dictionary called `buy_dict` and assign 'n' to each Ticker (key value) as a placeholder."
   ]
  },
  {
   "cell_type": "code",
   "execution_count": 26,
   "metadata": {},
   "outputs": [
    {
     "data": {
      "text/plain": [
       "{'AAPL': 'n', 'FB': 'n', 'GOOGL': 'n', 'MSFT': 'n', 'NFLX': 'n', 'TSLA': 'n'}"
      ]
     },
     "execution_count": 26,
     "metadata": {},
     "output_type": "execute_result"
    }
   ],
   "source": [
    "# Create dictionary from y_pred and assign a 'n' to each of them for now as a placeholder.\n",
    "buy_dict = dict.fromkeys(stocks_to_buy, 'n')\n",
    "buy_dict"
   ]
  },
  {
   "cell_type": "markdown",
   "metadata": {},
   "source": [
    "#### 6. Obtain the total available equity in your account from the Alpaca API and store in a variable called `total_capital`. You will split the capital equally between all selected stocks per the CIO's request."
   ]
  },
  {
   "cell_type": "code",
   "execution_count": 27,
   "metadata": {},
   "outputs": [],
   "source": [
    "# Pull the total available equity in our account from the  Alpaca API\n",
    "account = api.get_account()\n",
    "total_capital = float(account.equity)"
   ]
  },
  {
   "cell_type": "code",
   "execution_count": 28,
   "metadata": {},
   "outputs": [
    {
     "name": "stdout",
     "output_type": "stream",
     "text": [
      "Capital per stock: 16666.666666666668\n"
     ]
    }
   ],
   "source": [
    "# Compute capital per stock, divide equity in account by number of stocks\n",
    "# Use Alpaca API to pull the equity in the account\n",
    "if len(buy_dict) > 0:\n",
    "    capital_per_stock = float(total_capital)/ len(buy_dict)\n",
    "else:\n",
    "    capital_per_stock = 0\n",
    "print(f'Capital per stock: {capital_per_stock}')"
   ]
  },
  {
   "cell_type": "markdown",
   "metadata": {},
   "source": [
    "#### 7. Use a for-loop to iterate through `buy_dict` to determine the number stocks you need to buy for each ticker."
   ]
  },
  {
   "cell_type": "code",
   "execution_count": 29,
   "metadata": {},
   "outputs": [
    {
     "name": "stdout",
     "output_type": "stream",
     "text": [
      "{'AAPL': 132, 'FB': 63, 'GOOGL': 9, 'MSFT': 78, 'NFLX': 33, 'TSLA': 22}\n"
     ]
    }
   ],
   "source": [
    "# Use for loop to iterate through dictionary of buys \n",
    "# Determine the number stocks we need to buy for each ticker\n",
    "for ticker in buy_dict:\n",
    "    try:\n",
    "        buy_dict[ticker] = int(capital_per_stock /int(df_closing_prices[ticker].iloc[-1]))\n",
    "    except:\n",
    "        pass\n",
    "\n",
    "print(buy_dict)\n",
    "# {'FB': 75, 'AMZN': 6, 'AAPL': 156, 'GOOGL': 11, 'MSFT': 92}"
   ]
  },
  {
   "cell_type": "markdown",
   "metadata": {},
   "source": [
    "#### 8. Cancel all previous orders in the Alpaca API (so you don't buy more than intended) and sell all currently held stocks to close all positions."
   ]
  },
  {
   "cell_type": "code",
   "execution_count": 30,
   "metadata": {},
   "outputs": [
    {
     "data": {
      "text/plain": [
       "[]"
      ]
     },
     "execution_count": 30,
     "metadata": {},
     "output_type": "execute_result"
    }
   ],
   "source": [
    "# Cancel all previous orders in the Alpaca API\n",
    "api.cancel_all_orders()\n",
    "\n",
    "# Sell all currently held stocks to close all positions\n",
    "api.close_all_positions()"
   ]
  },
  {
   "cell_type": "markdown",
   "metadata": {},
   "source": [
    "#### 9. Iterate through `buy_dict` and send a buy order for each ticker with their corresponding number of shares."
   ]
  },
  {
   "cell_type": "code",
   "execution_count": 31,
   "metadata": {},
   "outputs": [
    {
     "name": "stdout",
     "output_type": "stream",
     "text": [
      "buying AAPL numShare 132\n",
      "buying FB numShare 63\n",
      "buying GOOGL numShare 9\n",
      "buying MSFT numShare 78\n",
      "buying NFLX numShare 33\n",
      "buying TSLA numShare 22\n"
     ]
    }
   ],
   "source": [
    "# Iterate through the longlist object and send a buy order for each ticker with a corresponding number of shares:\n",
    "for ticker, numShare in buy_dict.items():\n",
    "    api.submit_order(\n",
    "        ticker,\n",
    "        numShare,\n",
    "        \"buy\"\n",
    "    )\n",
    "    print(f\"buying {ticker} numShare {numShare}\")\n",
    "# buying FB numShare 75\n",
    "# buying AMZN numShare 6\n",
    "# buying AAPL numShare 156\n",
    "# buying GOOGL numShare 11\n",
    "# buying MSFT numShare 92"
   ]
  },
  {
   "cell_type": "markdown",
   "metadata": {},
   "source": [
    "### Automate the algorithm"
   ]
  },
  {
   "cell_type": "markdown",
   "metadata": {},
   "source": [
    "#### 1. Make a function called `trade()` that incorporates all of the steps above."
   ]
  },
  {
   "cell_type": "code",
   "execution_count": 32,
   "metadata": {},
   "outputs": [],
   "source": [
    "# Add all of the steps conducted above into the function trade\n",
    "def trade():\n",
    "\n",
    "    ticker_list = ['FB','AMZN','AAPL','NFLX', 'GOOGL', 'MSFT', 'TSLA']\n",
    "\n",
    "    # Notice that we remove the start and end variables since we want the latest prices.\n",
    "    prices = api.get_bars(\n",
    "        ticker_list,\n",
    "        timeframe='1Min',\n",
    "    ).df\n",
    "    # fill blank values\n",
    "    prices.ffill(inplace=True)\n",
    "    # slice the df, grouping them by symbol\n",
    "    symbol_df_dict = {symbol: sub_df for symbol, sub_df in prices.groupby('symbol')}\n",
    "    # concatenate into a multiindex dataframe\n",
    "    df_prices = pd.concat(symbol_df_dict, axis='columns')\n",
    "\n",
    "    # Fetch the closing prices of our tickers and drop a level\n",
    "    # Use iloc to get the last 10 mins every time we pull new data\n",
    "    df_closing_prices = df_prices[pd.MultiIndex.from_product([symbol_df_dict.keys(), ['close']])].droplevel(1, axis='columns').iloc[-11:]\n",
    "\n",
    "    print(df_closing_prices.head())\n",
    "    \n",
    "    # Loop through momentums to build new DataFrame\n",
    "    list_of_momentums = [1,5,10]\n",
    "\n",
    "    for i in list_of_momentums:  \n",
    "        # Compute percentage change for each one of the momentums in the momentum list\n",
    "        returns_temp = df_closing_prices.pct_change(i)\n",
    "        # Unstack the returns \n",
    "        returns_temp = pd.DataFrame(returns_temp.unstack())\n",
    "        name = f'{i}_m_returns'\n",
    "        returns_temp.rename(columns={0: name}, inplace = True)\n",
    "        # Reset the index so we can merge based on index\n",
    "        returns_temp.reset_index(inplace = True)\n",
    "        # Merge newly computed returns with previously created returns\n",
    "        if i ==1:\n",
    "            returns = returns_temp\n",
    "        else:\n",
    "            returns = pd.merge(returns,returns_temp,left_on=['level_0', 'timestamp'],right_on=['level_0', 'timestamp'], how='left', suffixes=('_original', 'right'))\n",
    "\n",
    "    # Drop nulls and set index\n",
    "    returns.dropna(axis=0, how='any', inplace=True)\n",
    "    returns.set_index(['level_0', 'timestamp'], inplace=True)\n",
    "\n",
    "    # Generate feature data\n",
    "    X = returns\n",
    "\n",
    "    # Preprocess data for model\n",
    "    # Load the previously trained and saved model using joblib\n",
    "    model = joblib.load('log_model.pkl')\n",
    "    # Use the model file to predict on X\n",
    "    y_pred = model.predict(X)\n",
    "\n",
    "    # Convert y_pred to a dataframe, set the index to the index of X\n",
    "    pred_df = pd.DataFrame(index=X.index)\n",
    "\n",
    "    # Rename the column 0 to 'buy', be sure to set inplace =True\n",
    "    pred_df['buy'] = y_pred\n",
    "    # Filter the stocks where 'buy' is equal to 1\n",
    "    stocks_to_buy = pred_df.loc[pred_df[\"buy\"] == 1].index.get_level_values(level=0)\n",
    "\n",
    "    # Create the `buy_dict` object\n",
    "    buy_dict = dict.fromkeys(stocks_to_buy, 'n')\n",
    "    \n",
    "    # Split capital between stocks and determine buy or sell\n",
    "    # Pull the total available equity in our account from the  Alpaca API\n",
    "    account = api.get_account()\n",
    "    total_capital = float(account.equity)\n",
    "    # Compute capital per stock, divide equity in account by number of stocks\n",
    "    # Use Alpaca API to pull the equity in the account\n",
    "    if len(buy_dict) > 0:\n",
    "        capital_per_stock = float(total_capital)/ len(buy_dict)\n",
    "    else:\n",
    "        capital_per_stock = 0\n",
    "    print(f'Capital per stock: {capital_per_stock}')\n",
    "    # Use for loop to iterate through dictionary of buys \n",
    "    # Determine the number stocks we need to buy for each ticker\n",
    "    for ticker in buy_dict:\n",
    "        try:\n",
    "            buy_dict[ticker] = int(capital_per_stock /int(df_closing_prices[ticker].iloc[-1]))\n",
    "        except:\n",
    "            pass\n",
    "    \n",
    "    # Cancel pending orders and close positions\n",
    "    api.cancel_all_orders()\n",
    "    api.close_all_positions()\n",
    "\n",
    "    # Submit orders\n",
    "    for ticker, numShare in buy_dict.items():\n",
    "        api.submit_order(\n",
    "            ticker,\n",
    "            numShare,\n",
    "            \"buy\"\n",
    "        )\n",
    "        print(f\"buying {ticker} numShare {numShare}\")\n"
   ]
  },
  {
   "cell_type": "markdown",
   "metadata": {},
   "source": [
    "#### 2. Import Python's schedule module."
   ]
  },
  {
   "cell_type": "code",
   "execution_count": 33,
   "metadata": {},
   "outputs": [],
   "source": [
    "# Import Python's schedule module \n",
    "import schedule"
   ]
  },
  {
   "cell_type": "markdown",
   "metadata": {},
   "source": [
    "#### 3. Use the \"schedule\" module to automate the algorithm:\n",
    "* Clear the schedule with `.clear()`.\n",
    "* Define a schedule to run the trade function every minute at 5 seconds past the minute mark (e.g. `10:31:05`).\n",
    "* Use the Alpaca API to check whether the market is open.\n",
    "* Use run_pending() function inside schedule to execute the schedule you defined while the market is open"
   ]
  },
  {
   "cell_type": "code",
   "execution_count": 34,
   "metadata": {},
   "outputs": [
    {
     "name": "stdout",
     "output_type": "stream",
     "text": [
      "Market closed, next open market day will be 2022-03-22 00:30:00+11:00\n"
     ]
    }
   ],
   "source": [
    "# Clear the schedule\n",
    "schedule.clear()\n",
    "\n",
    "# Define a schedule to run the trade function every minute at 5 seconds past the minute mark (e.g. 10:31:05)\n",
    "schedule.every().minute.at(\":05\").do(trade)\n",
    "\n",
    "# Use the Alpaca API to check whether the market is open\n",
    "clock = api.get_clock()\n",
    "\n",
    "# Use run_pending() function inside schedule to execute the schedule you defined as long as the market is open\n",
    "while clock.is_open:\n",
    "    closingTime = clock.next_close.replace(tzinfo=datetime.timezone.utc).timestamp()\n",
    "    currTime = clock.timestamp.replace(tzinfo=datetime.timezone.utc).timestamp()\n",
    "    timeToClose = closingTime - currTime\n",
    "\n",
    "    if timeToClose < 60:\n",
    "        # Close all positions when 1 minutes til market close.\n",
    "        print(\"Market closing soon. Stop trading.\")\n",
    "        # Cancel pending orders and close positions\n",
    "        api.cancel_all_orders()\n",
    "        api.close_all_positions()\n",
    "        break\n",
    "    schedule.run_pending()\n",
    "    time.sleep(1)\n",
    "print(f\"Market closed, next open market day will be {clock.next_open.astimezone('Australia/Sydney')}\")\n",
    "\n",
    "#                                FB     AMZN     AAPL     NFLX    GOOGL  \\\n",
    "# time                                                                    \n",
    "# 2021-02-02 15:13:00-05:00  267.24  3401.17  134.705  552.420  1924.72   \n",
    "# 2021-02-02 15:14:00-05:00  267.42  3397.59  134.665  552.530  1924.84   \n",
    "# 2021-02-02 15:15:00-05:00  267.30  3395.85  134.700  552.690  1924.96   \n",
    "# 2021-02-02 15:16:00-05:00  267.11  3393.24  134.730  552.320  1925.13   \n",
    "# 2021-02-02 15:17:00-05:00  267.19  3397.00  134.820  552.685  1926.48   \n",
    "\n",
    "#                               MSFT    TSLA  \n",
    "# time                                        \n",
    "# 2021-02-02 15:13:00-05:00  240.705  878.60  \n",
    "# 2021-02-02 15:14:00-05:00  240.590  878.05  \n",
    "# 2021-02-02 15:15:00-05:00  240.640  878.22  \n",
    "# 2021-02-02 15:16:00-05:00  240.460  878.75  \n",
    "# 2021-02-02 15:17:00-05:00  240.670  878.75  \n",
    "# buying AAPL numShare 371\n",
    "# buying TSLA numShare 56\n",
    "#                                FB      AMZN     AAPL     NFLX    GOOGL  \\\n",
    "# time                                                                     \n",
    "# 2021-02-02 15:14:00-05:00  267.42  3397.590  134.665  552.530  1924.84   \n",
    "# 2021-02-02 15:15:00-05:00  267.30  3395.850  134.700  552.690  1924.96   \n",
    "# 2021-02-02 15:16:00-05:00  267.11  3393.240  134.730  552.320  1925.13   \n",
    "# 2021-02-02 15:17:00-05:00  267.19  3397.000  134.820  552.685  1926.48   \n",
    "# 2021-02-02 15:18:00-05:00  267.21  3398.505  134.760  552.340  1926.37   \n",
    "\n",
    "#                              MSFT    TSLA  \n",
    "# time                                       \n",
    "# 2021-02-02 15:14:00-05:00  240.59  878.05  \n",
    "# 2021-02-02 15:15:00-05:00  240.64  878.22  \n",
    "# 2021-02-02 15:16:00-05:00  240.46  878.75  \n",
    "# 2021-02-02 15:17:00-05:00  240.67  878.75  \n",
    "# 2021-02-02 15:18:00-05:00  240.72  878.39  \n",
    "# buying AMZN numShare 5\n",
    "# buying AAPL numShare 148\n",
    "# buying NFLX numShare 35\n",
    "# buying GOOGL numShare 10\n",
    "# buying TSLA numShare 22\n"
   ]
  },
  {
   "cell_type": "code",
   "execution_count": null,
   "metadata": {},
   "outputs": [],
   "source": []
  }
 ],
 "metadata": {
  "kernelspec": {
   "display_name": "Python 3",
   "language": "python",
   "name": "python3"
  },
  "language_info": {
   "codemirror_mode": {
    "name": "ipython",
    "version": 3
   },
   "file_extension": ".py",
   "mimetype": "text/x-python",
   "name": "python",
   "nbconvert_exporter": "python",
   "pygments_lexer": "ipython3",
   "version": "3.9.7"
  }
 },
 "nbformat": 4,
 "nbformat_minor": 4
}
