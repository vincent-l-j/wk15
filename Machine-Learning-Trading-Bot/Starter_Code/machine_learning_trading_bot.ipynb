{
 "cells": [
  {
   "cell_type": "markdown",
   "metadata": {},
   "source": [
    "# Machine Learning Trading Bot\n",
    "\n",
    "In this Challenge, you’ll assume the role of a financial advisor at one of the top five financial advisory firms in the world. Your firm constantly competes with the other major firms to manage and automatically trade assets in a highly dynamic environment. In recent years, your firm has heavily profited by using computer algorithms that can buy and sell faster than human traders.\n",
    "\n",
    "The speed of these transactions gave your firm a competitive advantage early on. But, people still need to specifically program these systems, which limits their ability to adapt to new data. You’re thus planning to improve the existing algorithmic trading systems and maintain the firm’s competitive advantage in the market. To do so, you’ll enhance the existing trading signals with machine learning algorithms that can adapt to new data.\n",
    "\n",
    "## Instructions:\n",
    "\n",
    "Use the starter code file to complete the steps that the instructions outline. The steps for this Challenge are divided into the following sections:\n",
    "\n",
    "* Establish a Baseline Performance\n",
    "\n",
    "* Tune the Baseline Trading Algorithm\n",
    "\n",
    "* Evaluate a New Machine Learning Classifier\n",
    "\n",
    "* Create an Evaluation Report\n",
    "\n",
    "#### Establish a Baseline Performance\n",
    "\n",
    "In this section, you’ll run the provided starter code to establish a baseline performance for the trading algorithm. To do so, complete the following steps.\n",
    "\n",
    "Open the Jupyter notebook. Restart the kernel, run the provided cells that correspond with the first three steps, and then proceed to step four. \n",
    "\n",
    "1. Import the OHLCV dataset into a Pandas DataFrame.\n",
    "\n",
    "2. Generate trading signals using short- and long-window SMA values. \n",
    "\n",
    "3. Split the data into training and testing datasets.\n",
    "\n",
    "4. Use the `SVC` classifier model from SKLearn's support vector machine (SVM) learning method to fit the training data and make predictions based on the testing data. Review the predictions.\n",
    "\n",
    "5. Review the classification report associated with the `SVC` model predictions. \n",
    "\n",
    "6. Create a predictions DataFrame that contains columns for “Predicted” values, “Actual Returns”, and “Strategy Returns”.\n",
    "\n",
    "7. Create a cumulative return plot that shows the actual returns vs. the strategy returns. Save a PNG image of this plot. This will serve as a baseline against which to compare the effects of tuning the trading algorithm.\n",
    "\n",
    "8. Write your conclusions about the performance of the baseline trading algorithm in the `README.md` file that’s associated with your GitHub repository. Support your findings by using the PNG image that you saved in the previous step.\n",
    "\n",
    "#### Tune the Baseline Trading Algorithm\n",
    "\n",
    "In this section, you’ll tune, or adjust, the model’s input features to find the parameters that result in the best trading outcomes. (You’ll choose the best by comparing the cumulative products of the strategy returns.) To do so, complete the following steps:\n",
    "\n",
    "1. Tune the training algorithm by adjusting the size of the training dataset. To do so, slice your data into different periods. Rerun the notebook with the updated parameters, and record the results in your `README.md` file. Answer the following question: What impact resulted from increasing or decreasing the training window?\n",
    "\n",
    "> **Hint** To adjust the size of the training dataset, you can use a different `DateOffset` value&mdash;for example, six months. Be aware that changing the size of the training dataset also affects the size of the testing dataset.\n",
    "\n",
    "2. Tune the trading algorithm by adjusting the SMA input features. Adjust one or both of the windows for the algorithm. Rerun the notebook with the updated parameters, and record the results in your `README.md` file. Answer the following question: What impact resulted from increasing or decreasing either or both of the SMA windows?\n",
    "\n",
    "3. Choose the set of parameters that best improved the trading algorithm returns. Save a PNG image of the cumulative product of the actual returns vs. the strategy returns, and document your conclusion in your `README.md` file.\n",
    "\n",
    "#### Evaluate a New Machine Learning Classifier\n",
    "\n",
    "In this section, you’ll use the original parameters that the starter code provided. But, you’ll apply them to the performance of a second machine learning model. To do so, complete the following steps:\n",
    "\n",
    "1. Import a new classifier, such as `AdaBoost`, `DecisionTreeClassifier`, or `LogisticRegression`. (For the full list of classifiers, refer to the [Supervised learning page](https://scikit-learn.org/stable/supervised_learning.html) in the scikit-learn documentation.)\n",
    "\n",
    "2. Using the original training data as the baseline model, fit another model with the new classifier.\n",
    "\n",
    "3. Backtest the new model to evaluate its performance. Save a PNG image of the cumulative product of the actual returns vs. the strategy returns for this updated trading algorithm, and write your conclusions in your `README.md` file. Answer the following questions: Did this new model perform better or worse than the provided baseline model? Did this new model perform better or worse than your tuned trading algorithm?\n",
    "\n",
    "#### Create an Evaluation Report\n",
    "\n",
    "In the previous sections, you updated your `README.md` file with your conclusions. To accomplish this section, you need to add a summary evaluation report at the end of the `README.md` file. For this report, express your final conclusions and analysis. Support your findings by using the PNG images that you created.\n"
   ]
  },
  {
   "cell_type": "code",
   "execution_count": null,
   "metadata": {},
   "outputs": [],
   "source": [
    "# Imports\n",
    "import pandas as pd\n",
    "import numpy as np\n",
    "from pathlib import Path\n",
    "import hvplot.pandas\n",
    "import matplotlib.pyplot as plt\n",
    "from sklearn import svm\n",
    "from sklearn.preprocessing import StandardScaler\n",
    "from pandas.tseries.offsets import DateOffset\n",
    "from sklearn.metrics import classification_report"
   ]
  },
  {
   "cell_type": "markdown",
   "metadata": {},
   "source": [
    "---\n",
    "\n",
    "## Establish a Baseline Performance\n",
    "\n",
    "In this section, you’ll run the provided starter code to establish a baseline performance for the trading algorithm. To do so, complete the following steps.\n",
    "\n",
    "Open the Jupyter notebook. Restart the kernel, run the provided cells that correspond with the first three steps, and then proceed to step four. \n"
   ]
  },
  {
   "cell_type": "markdown",
   "metadata": {},
   "source": [
    "### Step 1: mport the OHLCV dataset into a Pandas DataFrame."
   ]
  },
  {
   "cell_type": "code",
   "execution_count": 2,
   "metadata": {},
   "outputs": [
    {
     "data": {
      "text/html": [
       "<div>\n",
       "<style scoped>\n",
       "    .dataframe tbody tr th:only-of-type {\n",
       "        vertical-align: middle;\n",
       "    }\n",
       "\n",
       "    .dataframe tbody tr th {\n",
       "        vertical-align: top;\n",
       "    }\n",
       "\n",
       "    .dataframe thead th {\n",
       "        text-align: right;\n",
       "    }\n",
       "</style>\n",
       "<table border=\"1\" class=\"dataframe\">\n",
       "  <thead>\n",
       "    <tr style=\"text-align: right;\">\n",
       "      <th></th>\n",
       "      <th>open</th>\n",
       "      <th>high</th>\n",
       "      <th>low</th>\n",
       "      <th>close</th>\n",
       "      <th>volume</th>\n",
       "    </tr>\n",
       "    <tr>\n",
       "      <th>date</th>\n",
       "      <th></th>\n",
       "      <th></th>\n",
       "      <th></th>\n",
       "      <th></th>\n",
       "      <th></th>\n",
       "    </tr>\n",
       "  </thead>\n",
       "  <tbody>\n",
       "    <tr>\n",
       "      <th>2018-10-19 09:30:00</th>\n",
       "      <td>16.90</td>\n",
       "      <td>17.18</td>\n",
       "      <td>16.90</td>\n",
       "      <td>17.095</td>\n",
       "      <td>11522</td>\n",
       "    </tr>\n",
       "    <tr>\n",
       "      <th>2018-10-19 09:45:00</th>\n",
       "      <td>17.11</td>\n",
       "      <td>17.44</td>\n",
       "      <td>17.11</td>\n",
       "      <td>17.400</td>\n",
       "      <td>70593</td>\n",
       "    </tr>\n",
       "    <tr>\n",
       "      <th>2018-10-19 10:00:00</th>\n",
       "      <td>17.40</td>\n",
       "      <td>17.40</td>\n",
       "      <td>17.25</td>\n",
       "      <td>17.280</td>\n",
       "      <td>38885</td>\n",
       "    </tr>\n",
       "    <tr>\n",
       "      <th>2018-10-19 10:15:00</th>\n",
       "      <td>17.27</td>\n",
       "      <td>17.27</td>\n",
       "      <td>17.18</td>\n",
       "      <td>17.200</td>\n",
       "      <td>37046</td>\n",
       "    </tr>\n",
       "    <tr>\n",
       "      <th>2018-10-19 10:30:00</th>\n",
       "      <td>17.21</td>\n",
       "      <td>17.37</td>\n",
       "      <td>17.19</td>\n",
       "      <td>17.200</td>\n",
       "      <td>46874</td>\n",
       "    </tr>\n",
       "  </tbody>\n",
       "</table>\n",
       "</div>"
      ],
      "text/plain": [
       "                      open   high    low   close  volume\n",
       "date                                                    \n",
       "2018-10-19 09:30:00  16.90  17.18  16.90  17.095   11522\n",
       "2018-10-19 09:45:00  17.11  17.44  17.11  17.400   70593\n",
       "2018-10-19 10:00:00  17.40  17.40  17.25  17.280   38885\n",
       "2018-10-19 10:15:00  17.27  17.27  17.18  17.200   37046\n",
       "2018-10-19 10:30:00  17.21  17.37  17.19  17.200   46874"
      ]
     },
     "execution_count": 2,
     "metadata": {},
     "output_type": "execute_result"
    }
   ],
   "source": [
    "# Import the OHLCV dataset into a Pandas Dataframe\n",
    "ohlcv_df = pd.read_csv(\n",
    "    Path(\"./Resources/ohlcv.csv\"), \n",
    "    index_col='date', \n",
    "    infer_datetime_format=True, \n",
    "    parse_dates=True\n",
    ")\n",
    "\n",
    "# Review the DataFrame\n",
    "ohlcv_df.head()"
   ]
  },
  {
   "cell_type": "code",
   "execution_count": 3,
   "metadata": {},
   "outputs": [
    {
     "data": {
      "text/html": [
       "<div>\n",
       "<style scoped>\n",
       "    .dataframe tbody tr th:only-of-type {\n",
       "        vertical-align: middle;\n",
       "    }\n",
       "\n",
       "    .dataframe tbody tr th {\n",
       "        vertical-align: top;\n",
       "    }\n",
       "\n",
       "    .dataframe thead th {\n",
       "        text-align: right;\n",
       "    }\n",
       "</style>\n",
       "<table border=\"1\" class=\"dataframe\">\n",
       "  <thead>\n",
       "    <tr style=\"text-align: right;\">\n",
       "      <th></th>\n",
       "      <th>close</th>\n",
       "      <th>Actual Returns</th>\n",
       "    </tr>\n",
       "    <tr>\n",
       "      <th>date</th>\n",
       "      <th></th>\n",
       "      <th></th>\n",
       "    </tr>\n",
       "  </thead>\n",
       "  <tbody>\n",
       "    <tr>\n",
       "      <th>2018-10-19 09:45:00</th>\n",
       "      <td>17.40</td>\n",
       "      <td>0.017841</td>\n",
       "    </tr>\n",
       "    <tr>\n",
       "      <th>2018-10-19 10:00:00</th>\n",
       "      <td>17.28</td>\n",
       "      <td>-0.006897</td>\n",
       "    </tr>\n",
       "    <tr>\n",
       "      <th>2018-10-19 10:15:00</th>\n",
       "      <td>17.20</td>\n",
       "      <td>-0.004630</td>\n",
       "    </tr>\n",
       "    <tr>\n",
       "      <th>2018-10-19 10:30:00</th>\n",
       "      <td>17.20</td>\n",
       "      <td>0.000000</td>\n",
       "    </tr>\n",
       "    <tr>\n",
       "      <th>2018-10-19 10:45:00</th>\n",
       "      <td>17.12</td>\n",
       "      <td>-0.004651</td>\n",
       "    </tr>\n",
       "  </tbody>\n",
       "</table>\n",
       "</div>"
      ],
      "text/plain": [
       "                     close  Actual Returns\n",
       "date                                      \n",
       "2018-10-19 09:45:00  17.40        0.017841\n",
       "2018-10-19 10:00:00  17.28       -0.006897\n",
       "2018-10-19 10:15:00  17.20       -0.004630\n",
       "2018-10-19 10:30:00  17.20        0.000000\n",
       "2018-10-19 10:45:00  17.12       -0.004651"
      ]
     },
     "metadata": {},
     "output_type": "display_data"
    },
    {
     "data": {
      "text/html": [
       "<div>\n",
       "<style scoped>\n",
       "    .dataframe tbody tr th:only-of-type {\n",
       "        vertical-align: middle;\n",
       "    }\n",
       "\n",
       "    .dataframe tbody tr th {\n",
       "        vertical-align: top;\n",
       "    }\n",
       "\n",
       "    .dataframe thead th {\n",
       "        text-align: right;\n",
       "    }\n",
       "</style>\n",
       "<table border=\"1\" class=\"dataframe\">\n",
       "  <thead>\n",
       "    <tr style=\"text-align: right;\">\n",
       "      <th></th>\n",
       "      <th>close</th>\n",
       "      <th>Actual Returns</th>\n",
       "    </tr>\n",
       "    <tr>\n",
       "      <th>date</th>\n",
       "      <th></th>\n",
       "      <th></th>\n",
       "    </tr>\n",
       "  </thead>\n",
       "  <tbody>\n",
       "    <tr>\n",
       "      <th>2020-09-04 14:45:00</th>\n",
       "      <td>6.250</td>\n",
       "      <td>0.003210</td>\n",
       "    </tr>\n",
       "    <tr>\n",
       "      <th>2020-09-04 15:00:00</th>\n",
       "      <td>6.250</td>\n",
       "      <td>0.000000</td>\n",
       "    </tr>\n",
       "    <tr>\n",
       "      <th>2020-09-04 15:15:00</th>\n",
       "      <td>6.275</td>\n",
       "      <td>0.004000</td>\n",
       "    </tr>\n",
       "    <tr>\n",
       "      <th>2020-09-04 15:30:00</th>\n",
       "      <td>6.255</td>\n",
       "      <td>-0.003187</td>\n",
       "    </tr>\n",
       "    <tr>\n",
       "      <th>2020-09-04 15:45:00</th>\n",
       "      <td>6.250</td>\n",
       "      <td>-0.000799</td>\n",
       "    </tr>\n",
       "  </tbody>\n",
       "</table>\n",
       "</div>"
      ],
      "text/plain": [
       "                     close  Actual Returns\n",
       "date                                      \n",
       "2020-09-04 14:45:00  6.250        0.003210\n",
       "2020-09-04 15:00:00  6.250        0.000000\n",
       "2020-09-04 15:15:00  6.275        0.004000\n",
       "2020-09-04 15:30:00  6.255       -0.003187\n",
       "2020-09-04 15:45:00  6.250       -0.000799"
      ]
     },
     "metadata": {},
     "output_type": "display_data"
    }
   ],
   "source": [
    "# Filter the date index and close columns\n",
    "signals_df = ohlcv_df.loc[:, [\"close\"]]\n",
    "\n",
    "# Use the pct_change function to generate  returns from close prices\n",
    "signals_df[\"Actual Returns\"] = signals_df[\"close\"].pct_change()\n",
    "\n",
    "# Drop all NaN values from the DataFrame\n",
    "signals_df = signals_df.dropna()\n",
    "\n",
    "# Review the DataFrame\n",
    "display(signals_df.head())\n",
    "display(signals_df.tail())"
   ]
  },
  {
   "cell_type": "markdown",
   "metadata": {},
   "source": [
    "## Step 2: Generate trading signals using short- and long-window SMA values. "
   ]
  },
  {
   "cell_type": "code",
   "execution_count": 4,
   "metadata": {},
   "outputs": [
    {
     "data": {
      "text/html": [
       "<div>\n",
       "<style scoped>\n",
       "    .dataframe tbody tr th:only-of-type {\n",
       "        vertical-align: middle;\n",
       "    }\n",
       "\n",
       "    .dataframe tbody tr th {\n",
       "        vertical-align: top;\n",
       "    }\n",
       "\n",
       "    .dataframe thead th {\n",
       "        text-align: right;\n",
       "    }\n",
       "</style>\n",
       "<table border=\"1\" class=\"dataframe\">\n",
       "  <thead>\n",
       "    <tr style=\"text-align: right;\">\n",
       "      <th></th>\n",
       "      <th>close</th>\n",
       "      <th>Actual Returns</th>\n",
       "      <th>SMA_Fast</th>\n",
       "      <th>SMA_Slow</th>\n",
       "    </tr>\n",
       "    <tr>\n",
       "      <th>date</th>\n",
       "      <th></th>\n",
       "      <th></th>\n",
       "      <th></th>\n",
       "      <th></th>\n",
       "    </tr>\n",
       "  </thead>\n",
       "  <tbody>\n",
       "    <tr>\n",
       "      <th>2018-10-24 15:00:00</th>\n",
       "      <td>15.615</td>\n",
       "      <td>-0.002874</td>\n",
       "      <td>15.65250</td>\n",
       "      <td>16.3403</td>\n",
       "    </tr>\n",
       "    <tr>\n",
       "      <th>2018-10-24 15:15:00</th>\n",
       "      <td>15.530</td>\n",
       "      <td>-0.005443</td>\n",
       "      <td>15.61875</td>\n",
       "      <td>16.3216</td>\n",
       "    </tr>\n",
       "    <tr>\n",
       "      <th>2018-10-24 15:30:00</th>\n",
       "      <td>15.410</td>\n",
       "      <td>-0.007727</td>\n",
       "      <td>15.55375</td>\n",
       "      <td>16.3029</td>\n",
       "    </tr>\n",
       "    <tr>\n",
       "      <th>2018-10-24 15:45:00</th>\n",
       "      <td>15.350</td>\n",
       "      <td>-0.003894</td>\n",
       "      <td>15.47625</td>\n",
       "      <td>16.2844</td>\n",
       "    </tr>\n",
       "    <tr>\n",
       "      <th>2018-10-25 09:30:00</th>\n",
       "      <td>15.320</td>\n",
       "      <td>-0.001954</td>\n",
       "      <td>15.40250</td>\n",
       "      <td>16.2656</td>\n",
       "    </tr>\n",
       "  </tbody>\n",
       "</table>\n",
       "</div>"
      ],
      "text/plain": [
       "                      close  Actual Returns  SMA_Fast  SMA_Slow\n",
       "date                                                           \n",
       "2018-10-24 15:00:00  15.615       -0.002874  15.65250   16.3403\n",
       "2018-10-24 15:15:00  15.530       -0.005443  15.61875   16.3216\n",
       "2018-10-24 15:30:00  15.410       -0.007727  15.55375   16.3029\n",
       "2018-10-24 15:45:00  15.350       -0.003894  15.47625   16.2844\n",
       "2018-10-25 09:30:00  15.320       -0.001954  15.40250   16.2656"
      ]
     },
     "metadata": {},
     "output_type": "display_data"
    },
    {
     "data": {
      "text/html": [
       "<div>\n",
       "<style scoped>\n",
       "    .dataframe tbody tr th:only-of-type {\n",
       "        vertical-align: middle;\n",
       "    }\n",
       "\n",
       "    .dataframe tbody tr th {\n",
       "        vertical-align: top;\n",
       "    }\n",
       "\n",
       "    .dataframe thead th {\n",
       "        text-align: right;\n",
       "    }\n",
       "</style>\n",
       "<table border=\"1\" class=\"dataframe\">\n",
       "  <thead>\n",
       "    <tr style=\"text-align: right;\">\n",
       "      <th></th>\n",
       "      <th>close</th>\n",
       "      <th>Actual Returns</th>\n",
       "      <th>SMA_Fast</th>\n",
       "      <th>SMA_Slow</th>\n",
       "    </tr>\n",
       "    <tr>\n",
       "      <th>date</th>\n",
       "      <th></th>\n",
       "      <th></th>\n",
       "      <th></th>\n",
       "      <th></th>\n",
       "    </tr>\n",
       "  </thead>\n",
       "  <tbody>\n",
       "    <tr>\n",
       "      <th>2020-09-04 14:45:00</th>\n",
       "      <td>6.250</td>\n",
       "      <td>0.003210</td>\n",
       "      <td>6.22875</td>\n",
       "      <td>6.27030</td>\n",
       "    </tr>\n",
       "    <tr>\n",
       "      <th>2020-09-04 15:00:00</th>\n",
       "      <td>6.250</td>\n",
       "      <td>0.000000</td>\n",
       "      <td>6.23875</td>\n",
       "      <td>6.26985</td>\n",
       "    </tr>\n",
       "    <tr>\n",
       "      <th>2020-09-04 15:15:00</th>\n",
       "      <td>6.275</td>\n",
       "      <td>0.004000</td>\n",
       "      <td>6.25125</td>\n",
       "      <td>6.26910</td>\n",
       "    </tr>\n",
       "    <tr>\n",
       "      <th>2020-09-04 15:30:00</th>\n",
       "      <td>6.255</td>\n",
       "      <td>-0.003187</td>\n",
       "      <td>6.25750</td>\n",
       "      <td>6.26855</td>\n",
       "    </tr>\n",
       "    <tr>\n",
       "      <th>2020-09-04 15:45:00</th>\n",
       "      <td>6.250</td>\n",
       "      <td>-0.000799</td>\n",
       "      <td>6.25750</td>\n",
       "      <td>6.26785</td>\n",
       "    </tr>\n",
       "  </tbody>\n",
       "</table>\n",
       "</div>"
      ],
      "text/plain": [
       "                     close  Actual Returns  SMA_Fast  SMA_Slow\n",
       "date                                                          \n",
       "2020-09-04 14:45:00  6.250        0.003210   6.22875   6.27030\n",
       "2020-09-04 15:00:00  6.250        0.000000   6.23875   6.26985\n",
       "2020-09-04 15:15:00  6.275        0.004000   6.25125   6.26910\n",
       "2020-09-04 15:30:00  6.255       -0.003187   6.25750   6.26855\n",
       "2020-09-04 15:45:00  6.250       -0.000799   6.25750   6.26785"
      ]
     },
     "metadata": {},
     "output_type": "display_data"
    }
   ],
   "source": [
    "# Set the short window and long window\n",
    "short_window = 4\n",
    "long_window = 100\n",
    "\n",
    "# Generate the fast and slow simple moving averages (4 and 100 days, respectively)\n",
    "signals_df['SMA_Fast'] = signals_df['close'].rolling(window=short_window).mean()\n",
    "signals_df['SMA_Slow'] = signals_df['close'].rolling(window=long_window).mean()\n",
    "\n",
    "signals_df = signals_df.dropna()\n",
    "\n",
    "# Review the DataFrame\n",
    "display(signals_df.head())\n",
    "display(signals_df.tail())"
   ]
  },
  {
   "cell_type": "code",
   "execution_count": 5,
   "metadata": {},
   "outputs": [
    {
     "data": {
      "text/html": [
       "<div>\n",
       "<style scoped>\n",
       "    .dataframe tbody tr th:only-of-type {\n",
       "        vertical-align: middle;\n",
       "    }\n",
       "\n",
       "    .dataframe tbody tr th {\n",
       "        vertical-align: top;\n",
       "    }\n",
       "\n",
       "    .dataframe thead th {\n",
       "        text-align: right;\n",
       "    }\n",
       "</style>\n",
       "<table border=\"1\" class=\"dataframe\">\n",
       "  <thead>\n",
       "    <tr style=\"text-align: right;\">\n",
       "      <th></th>\n",
       "      <th>close</th>\n",
       "      <th>Actual Returns</th>\n",
       "      <th>SMA_Fast</th>\n",
       "      <th>SMA_Slow</th>\n",
       "      <th>Signal</th>\n",
       "    </tr>\n",
       "    <tr>\n",
       "      <th>date</th>\n",
       "      <th></th>\n",
       "      <th></th>\n",
       "      <th></th>\n",
       "      <th></th>\n",
       "      <th></th>\n",
       "    </tr>\n",
       "  </thead>\n",
       "  <tbody>\n",
       "    <tr>\n",
       "      <th>2018-10-24 15:00:00</th>\n",
       "      <td>15.615</td>\n",
       "      <td>-0.002874</td>\n",
       "      <td>15.65250</td>\n",
       "      <td>16.3403</td>\n",
       "      <td>-1.0</td>\n",
       "    </tr>\n",
       "    <tr>\n",
       "      <th>2018-10-24 15:15:00</th>\n",
       "      <td>15.530</td>\n",
       "      <td>-0.005443</td>\n",
       "      <td>15.61875</td>\n",
       "      <td>16.3216</td>\n",
       "      <td>-1.0</td>\n",
       "    </tr>\n",
       "    <tr>\n",
       "      <th>2018-10-24 15:30:00</th>\n",
       "      <td>15.410</td>\n",
       "      <td>-0.007727</td>\n",
       "      <td>15.55375</td>\n",
       "      <td>16.3029</td>\n",
       "      <td>-1.0</td>\n",
       "    </tr>\n",
       "    <tr>\n",
       "      <th>2018-10-24 15:45:00</th>\n",
       "      <td>15.350</td>\n",
       "      <td>-0.003894</td>\n",
       "      <td>15.47625</td>\n",
       "      <td>16.2844</td>\n",
       "      <td>-1.0</td>\n",
       "    </tr>\n",
       "    <tr>\n",
       "      <th>2018-10-25 09:30:00</th>\n",
       "      <td>15.320</td>\n",
       "      <td>-0.001954</td>\n",
       "      <td>15.40250</td>\n",
       "      <td>16.2656</td>\n",
       "      <td>-1.0</td>\n",
       "    </tr>\n",
       "  </tbody>\n",
       "</table>\n",
       "</div>"
      ],
      "text/plain": [
       "                      close  Actual Returns  SMA_Fast  SMA_Slow  Signal\n",
       "date                                                                   \n",
       "2018-10-24 15:00:00  15.615       -0.002874  15.65250   16.3403    -1.0\n",
       "2018-10-24 15:15:00  15.530       -0.005443  15.61875   16.3216    -1.0\n",
       "2018-10-24 15:30:00  15.410       -0.007727  15.55375   16.3029    -1.0\n",
       "2018-10-24 15:45:00  15.350       -0.003894  15.47625   16.2844    -1.0\n",
       "2018-10-25 09:30:00  15.320       -0.001954  15.40250   16.2656    -1.0"
      ]
     },
     "metadata": {},
     "output_type": "display_data"
    },
    {
     "data": {
      "text/html": [
       "<div>\n",
       "<style scoped>\n",
       "    .dataframe tbody tr th:only-of-type {\n",
       "        vertical-align: middle;\n",
       "    }\n",
       "\n",
       "    .dataframe tbody tr th {\n",
       "        vertical-align: top;\n",
       "    }\n",
       "\n",
       "    .dataframe thead th {\n",
       "        text-align: right;\n",
       "    }\n",
       "</style>\n",
       "<table border=\"1\" class=\"dataframe\">\n",
       "  <thead>\n",
       "    <tr style=\"text-align: right;\">\n",
       "      <th></th>\n",
       "      <th>close</th>\n",
       "      <th>Actual Returns</th>\n",
       "      <th>SMA_Fast</th>\n",
       "      <th>SMA_Slow</th>\n",
       "      <th>Signal</th>\n",
       "    </tr>\n",
       "    <tr>\n",
       "      <th>date</th>\n",
       "      <th></th>\n",
       "      <th></th>\n",
       "      <th></th>\n",
       "      <th></th>\n",
       "      <th></th>\n",
       "    </tr>\n",
       "  </thead>\n",
       "  <tbody>\n",
       "    <tr>\n",
       "      <th>2020-09-04 14:45:00</th>\n",
       "      <td>6.250</td>\n",
       "      <td>0.003210</td>\n",
       "      <td>6.22875</td>\n",
       "      <td>6.27030</td>\n",
       "      <td>1.0</td>\n",
       "    </tr>\n",
       "    <tr>\n",
       "      <th>2020-09-04 15:00:00</th>\n",
       "      <td>6.250</td>\n",
       "      <td>0.000000</td>\n",
       "      <td>6.23875</td>\n",
       "      <td>6.26985</td>\n",
       "      <td>1.0</td>\n",
       "    </tr>\n",
       "    <tr>\n",
       "      <th>2020-09-04 15:15:00</th>\n",
       "      <td>6.275</td>\n",
       "      <td>0.004000</td>\n",
       "      <td>6.25125</td>\n",
       "      <td>6.26910</td>\n",
       "      <td>1.0</td>\n",
       "    </tr>\n",
       "    <tr>\n",
       "      <th>2020-09-04 15:30:00</th>\n",
       "      <td>6.255</td>\n",
       "      <td>-0.003187</td>\n",
       "      <td>6.25750</td>\n",
       "      <td>6.26855</td>\n",
       "      <td>-1.0</td>\n",
       "    </tr>\n",
       "    <tr>\n",
       "      <th>2020-09-04 15:45:00</th>\n",
       "      <td>6.250</td>\n",
       "      <td>-0.000799</td>\n",
       "      <td>6.25750</td>\n",
       "      <td>6.26785</td>\n",
       "      <td>-1.0</td>\n",
       "    </tr>\n",
       "  </tbody>\n",
       "</table>\n",
       "</div>"
      ],
      "text/plain": [
       "                     close  Actual Returns  SMA_Fast  SMA_Slow  Signal\n",
       "date                                                                  \n",
       "2020-09-04 14:45:00  6.250        0.003210   6.22875   6.27030     1.0\n",
       "2020-09-04 15:00:00  6.250        0.000000   6.23875   6.26985     1.0\n",
       "2020-09-04 15:15:00  6.275        0.004000   6.25125   6.26910     1.0\n",
       "2020-09-04 15:30:00  6.255       -0.003187   6.25750   6.26855    -1.0\n",
       "2020-09-04 15:45:00  6.250       -0.000799   6.25750   6.26785    -1.0"
      ]
     },
     "metadata": {},
     "output_type": "display_data"
    }
   ],
   "source": [
    "# Initialize the new Signal column\n",
    "signals_df['Signal'] = 0.0\n",
    "\n",
    "# When Actual Returns are greater than or equal to 0, generate signal to buy stock long\n",
    "signals_df.loc[(signals_df['Actual Returns'] >= 0), 'Signal'] = 1\n",
    "\n",
    "# When Actual Returns are less than 0, generate signal to sell stock short\n",
    "signals_df.loc[(signals_df['Actual Returns'] < 0), 'Signal'] = -1\n",
    "\n",
    "# Review the DataFrame\n",
    "display(signals_df.head())\n",
    "display(signals_df.tail())"
   ]
  },
  {
   "cell_type": "code",
   "execution_count": 6,
   "metadata": {},
   "outputs": [
    {
     "data": {
      "text/plain": [
       " 1.0    6334\n",
       "-1.0    5635\n",
       "Name: Signal, dtype: int64"
      ]
     },
     "execution_count": 6,
     "metadata": {},
     "output_type": "execute_result"
    }
   ],
   "source": [
    "signals_df['Signal'].value_counts()"
   ]
  },
  {
   "cell_type": "code",
   "execution_count": 7,
   "metadata": {},
   "outputs": [
    {
     "data": {
      "text/html": [
       "<div>\n",
       "<style scoped>\n",
       "    .dataframe tbody tr th:only-of-type {\n",
       "        vertical-align: middle;\n",
       "    }\n",
       "\n",
       "    .dataframe tbody tr th {\n",
       "        vertical-align: top;\n",
       "    }\n",
       "\n",
       "    .dataframe thead th {\n",
       "        text-align: right;\n",
       "    }\n",
       "</style>\n",
       "<table border=\"1\" class=\"dataframe\">\n",
       "  <thead>\n",
       "    <tr style=\"text-align: right;\">\n",
       "      <th></th>\n",
       "      <th>close</th>\n",
       "      <th>Actual Returns</th>\n",
       "      <th>SMA_Fast</th>\n",
       "      <th>SMA_Slow</th>\n",
       "      <th>Signal</th>\n",
       "      <th>Strategy Returns</th>\n",
       "    </tr>\n",
       "    <tr>\n",
       "      <th>date</th>\n",
       "      <th></th>\n",
       "      <th></th>\n",
       "      <th></th>\n",
       "      <th></th>\n",
       "      <th></th>\n",
       "      <th></th>\n",
       "    </tr>\n",
       "  </thead>\n",
       "  <tbody>\n",
       "    <tr>\n",
       "      <th>2018-10-24 15:00:00</th>\n",
       "      <td>15.615</td>\n",
       "      <td>-0.002874</td>\n",
       "      <td>15.65250</td>\n",
       "      <td>16.3403</td>\n",
       "      <td>-1.0</td>\n",
       "      <td>NaN</td>\n",
       "    </tr>\n",
       "    <tr>\n",
       "      <th>2018-10-24 15:15:00</th>\n",
       "      <td>15.530</td>\n",
       "      <td>-0.005443</td>\n",
       "      <td>15.61875</td>\n",
       "      <td>16.3216</td>\n",
       "      <td>-1.0</td>\n",
       "      <td>0.005443</td>\n",
       "    </tr>\n",
       "    <tr>\n",
       "      <th>2018-10-24 15:30:00</th>\n",
       "      <td>15.410</td>\n",
       "      <td>-0.007727</td>\n",
       "      <td>15.55375</td>\n",
       "      <td>16.3029</td>\n",
       "      <td>-1.0</td>\n",
       "      <td>0.007727</td>\n",
       "    </tr>\n",
       "    <tr>\n",
       "      <th>2018-10-24 15:45:00</th>\n",
       "      <td>15.350</td>\n",
       "      <td>-0.003894</td>\n",
       "      <td>15.47625</td>\n",
       "      <td>16.2844</td>\n",
       "      <td>-1.0</td>\n",
       "      <td>0.003894</td>\n",
       "    </tr>\n",
       "    <tr>\n",
       "      <th>2018-10-25 09:30:00</th>\n",
       "      <td>15.320</td>\n",
       "      <td>-0.001954</td>\n",
       "      <td>15.40250</td>\n",
       "      <td>16.2656</td>\n",
       "      <td>-1.0</td>\n",
       "      <td>0.001954</td>\n",
       "    </tr>\n",
       "  </tbody>\n",
       "</table>\n",
       "</div>"
      ],
      "text/plain": [
       "                      close  Actual Returns  SMA_Fast  SMA_Slow  Signal  \\\n",
       "date                                                                      \n",
       "2018-10-24 15:00:00  15.615       -0.002874  15.65250   16.3403    -1.0   \n",
       "2018-10-24 15:15:00  15.530       -0.005443  15.61875   16.3216    -1.0   \n",
       "2018-10-24 15:30:00  15.410       -0.007727  15.55375   16.3029    -1.0   \n",
       "2018-10-24 15:45:00  15.350       -0.003894  15.47625   16.2844    -1.0   \n",
       "2018-10-25 09:30:00  15.320       -0.001954  15.40250   16.2656    -1.0   \n",
       "\n",
       "                     Strategy Returns  \n",
       "date                                   \n",
       "2018-10-24 15:00:00               NaN  \n",
       "2018-10-24 15:15:00          0.005443  \n",
       "2018-10-24 15:30:00          0.007727  \n",
       "2018-10-24 15:45:00          0.003894  \n",
       "2018-10-25 09:30:00          0.001954  "
      ]
     },
     "metadata": {},
     "output_type": "display_data"
    },
    {
     "data": {
      "text/html": [
       "<div>\n",
       "<style scoped>\n",
       "    .dataframe tbody tr th:only-of-type {\n",
       "        vertical-align: middle;\n",
       "    }\n",
       "\n",
       "    .dataframe tbody tr th {\n",
       "        vertical-align: top;\n",
       "    }\n",
       "\n",
       "    .dataframe thead th {\n",
       "        text-align: right;\n",
       "    }\n",
       "</style>\n",
       "<table border=\"1\" class=\"dataframe\">\n",
       "  <thead>\n",
       "    <tr style=\"text-align: right;\">\n",
       "      <th></th>\n",
       "      <th>close</th>\n",
       "      <th>Actual Returns</th>\n",
       "      <th>SMA_Fast</th>\n",
       "      <th>SMA_Slow</th>\n",
       "      <th>Signal</th>\n",
       "      <th>Strategy Returns</th>\n",
       "    </tr>\n",
       "    <tr>\n",
       "      <th>date</th>\n",
       "      <th></th>\n",
       "      <th></th>\n",
       "      <th></th>\n",
       "      <th></th>\n",
       "      <th></th>\n",
       "      <th></th>\n",
       "    </tr>\n",
       "  </thead>\n",
       "  <tbody>\n",
       "    <tr>\n",
       "      <th>2020-09-04 14:45:00</th>\n",
       "      <td>6.250</td>\n",
       "      <td>0.003210</td>\n",
       "      <td>6.22875</td>\n",
       "      <td>6.27030</td>\n",
       "      <td>1.0</td>\n",
       "      <td>0.003210</td>\n",
       "    </tr>\n",
       "    <tr>\n",
       "      <th>2020-09-04 15:00:00</th>\n",
       "      <td>6.250</td>\n",
       "      <td>0.000000</td>\n",
       "      <td>6.23875</td>\n",
       "      <td>6.26985</td>\n",
       "      <td>1.0</td>\n",
       "      <td>0.000000</td>\n",
       "    </tr>\n",
       "    <tr>\n",
       "      <th>2020-09-04 15:15:00</th>\n",
       "      <td>6.275</td>\n",
       "      <td>0.004000</td>\n",
       "      <td>6.25125</td>\n",
       "      <td>6.26910</td>\n",
       "      <td>1.0</td>\n",
       "      <td>0.004000</td>\n",
       "    </tr>\n",
       "    <tr>\n",
       "      <th>2020-09-04 15:30:00</th>\n",
       "      <td>6.255</td>\n",
       "      <td>-0.003187</td>\n",
       "      <td>6.25750</td>\n",
       "      <td>6.26855</td>\n",
       "      <td>-1.0</td>\n",
       "      <td>-0.003187</td>\n",
       "    </tr>\n",
       "    <tr>\n",
       "      <th>2020-09-04 15:45:00</th>\n",
       "      <td>6.250</td>\n",
       "      <td>-0.000799</td>\n",
       "      <td>6.25750</td>\n",
       "      <td>6.26785</td>\n",
       "      <td>-1.0</td>\n",
       "      <td>0.000799</td>\n",
       "    </tr>\n",
       "  </tbody>\n",
       "</table>\n",
       "</div>"
      ],
      "text/plain": [
       "                     close  Actual Returns  SMA_Fast  SMA_Slow  Signal  \\\n",
       "date                                                                     \n",
       "2020-09-04 14:45:00  6.250        0.003210   6.22875   6.27030     1.0   \n",
       "2020-09-04 15:00:00  6.250        0.000000   6.23875   6.26985     1.0   \n",
       "2020-09-04 15:15:00  6.275        0.004000   6.25125   6.26910     1.0   \n",
       "2020-09-04 15:30:00  6.255       -0.003187   6.25750   6.26855    -1.0   \n",
       "2020-09-04 15:45:00  6.250       -0.000799   6.25750   6.26785    -1.0   \n",
       "\n",
       "                     Strategy Returns  \n",
       "date                                   \n",
       "2020-09-04 14:45:00          0.003210  \n",
       "2020-09-04 15:00:00          0.000000  \n",
       "2020-09-04 15:15:00          0.004000  \n",
       "2020-09-04 15:30:00         -0.003187  \n",
       "2020-09-04 15:45:00          0.000799  "
      ]
     },
     "metadata": {},
     "output_type": "display_data"
    }
   ],
   "source": [
    "# Calculate the strategy returns and add them to the signals_df DataFrame\n",
    "signals_df['Strategy Returns'] = signals_df['Actual Returns'] * signals_df['Signal'].shift()\n",
    "\n",
    "# Review the DataFrame\n",
    "display(signals_df.head())\n",
    "display(signals_df.tail())"
   ]
  },
  {
   "cell_type": "code",
   "execution_count": 8,
   "metadata": {},
   "outputs": [
    {
     "data": {
      "text/plain": [
       "<AxesSubplot:xlabel='date'>"
      ]
     },
     "execution_count": 8,
     "metadata": {},
     "output_type": "execute_result"
    },
    {
     "data": {
      "image/png": "[encoded data removed]",
      "text/plain": [
       "<Figure size 432x288 with 1 Axes>"
      ]
     },
     "metadata": {
      "needs_background": "light"
     },
     "output_type": "display_data"
    }
   ],
   "source": [
    "# Plot Strategy Returns to examine performance\n",
    "(1 + signals_df['Strategy Returns']).cumprod().plot()"
   ]
  },
  {
   "cell_type": "markdown",
   "metadata": {},
   "source": [
    "### Step 3: Split the data into training and testing datasets."
   ]
  },
  {
   "cell_type": "code",
   "execution_count": 9,
   "metadata": {},
   "outputs": [
    {
     "data": {
      "text/html": [
       "<div>\n",
       "<style scoped>\n",
       "    .dataframe tbody tr th:only-of-type {\n",
       "        vertical-align: middle;\n",
       "    }\n",
       "\n",
       "    .dataframe tbody tr th {\n",
       "        vertical-align: top;\n",
       "    }\n",
       "\n",
       "    .dataframe thead th {\n",
       "        text-align: right;\n",
       "    }\n",
       "</style>\n",
       "<table border=\"1\" class=\"dataframe\">\n",
       "  <thead>\n",
       "    <tr style=\"text-align: right;\">\n",
       "      <th></th>\n",
       "      <th>SMA_Fast</th>\n",
       "      <th>SMA_Slow</th>\n",
       "    </tr>\n",
       "    <tr>\n",
       "      <th>date</th>\n",
       "      <th></th>\n",
       "      <th></th>\n",
       "    </tr>\n",
       "  </thead>\n",
       "  <tbody>\n",
       "    <tr>\n",
       "      <th>2018-10-24 15:15:00</th>\n",
       "      <td>15.65250</td>\n",
       "      <td>16.3403</td>\n",
       "    </tr>\n",
       "    <tr>\n",
       "      <th>2018-10-24 15:30:00</th>\n",
       "      <td>15.61875</td>\n",
       "      <td>16.3216</td>\n",
       "    </tr>\n",
       "    <tr>\n",
       "      <th>2018-10-24 15:45:00</th>\n",
       "      <td>15.55375</td>\n",
       "      <td>16.3029</td>\n",
       "    </tr>\n",
       "    <tr>\n",
       "      <th>2018-10-25 09:30:00</th>\n",
       "      <td>15.47625</td>\n",
       "      <td>16.2844</td>\n",
       "    </tr>\n",
       "    <tr>\n",
       "      <th>2018-10-25 09:45:00</th>\n",
       "      <td>15.40250</td>\n",
       "      <td>16.2656</td>\n",
       "    </tr>\n",
       "  </tbody>\n",
       "</table>\n",
       "</div>"
      ],
      "text/plain": [
       "                     SMA_Fast  SMA_Slow\n",
       "date                                   \n",
       "2018-10-24 15:15:00  15.65250   16.3403\n",
       "2018-10-24 15:30:00  15.61875   16.3216\n",
       "2018-10-24 15:45:00  15.55375   16.3029\n",
       "2018-10-25 09:30:00  15.47625   16.2844\n",
       "2018-10-25 09:45:00  15.40250   16.2656"
      ]
     },
     "execution_count": 9,
     "metadata": {},
     "output_type": "execute_result"
    }
   ],
   "source": [
    "# Assign a copy of the sma_fast and sma_slow columns to a features DataFrame called X\n",
    "X = signals_df[['SMA_Fast', 'SMA_Slow']].shift().dropna()\n",
    "\n",
    "# Review the DataFrame\n",
    "X.head()"
   ]
  },
  {
   "cell_type": "code",
   "execution_count": 10,
   "metadata": {},
   "outputs": [
    {
     "data": {
      "text/plain": [
       " 1.0    6334\n",
       "-1.0    5635\n",
       "Name: Signal, dtype: int64"
      ]
     },
     "execution_count": 10,
     "metadata": {},
     "output_type": "execute_result"
    }
   ],
   "source": [
    "# Create the target set selecting the Signal column and assiging it to y\n",
    "y = signals_df['Signal']\n",
    "\n",
    "# Review the value counts\n",
    "y.value_counts()"
   ]
  },
  {
   "cell_type": "code",
   "execution_count": 11,
   "metadata": {},
   "outputs": [
    {
     "name": "stdout",
     "output_type": "stream",
     "text": [
      "2018-10-24 15:15:00\n"
     ]
    }
   ],
   "source": [
    "# Select the start of the training period\n",
    "training_begin = X.index.min()\n",
    "\n",
    "# Display the training begin date\n",
    "print(training_begin)"
   ]
  },
  {
   "cell_type": "code",
   "execution_count": 12,
   "metadata": {},
   "outputs": [
    {
     "name": "stdout",
     "output_type": "stream",
     "text": [
      "2019-01-24 15:15:00\n"
     ]
    }
   ],
   "source": [
    "# Select the ending period for the training data with an offset of 3 months\n",
    "training_end = X.index.min() + DateOffset(months=3)\n",
    "\n",
    "# Display the training end date\n",
    "print(training_end)"
   ]
  },
  {
   "cell_type": "code",
   "execution_count": 13,
   "metadata": {},
   "outputs": [
    {
     "data": {
      "text/html": [
       "<div>\n",
       "<style scoped>\n",
       "    .dataframe tbody tr th:only-of-type {\n",
       "        vertical-align: middle;\n",
       "    }\n",
       "\n",
       "    .dataframe tbody tr th {\n",
       "        vertical-align: top;\n",
       "    }\n",
       "\n",
       "    .dataframe thead th {\n",
       "        text-align: right;\n",
       "    }\n",
       "</style>\n",
       "<table border=\"1\" class=\"dataframe\">\n",
       "  <thead>\n",
       "    <tr style=\"text-align: right;\">\n",
       "      <th></th>\n",
       "      <th>SMA_Fast</th>\n",
       "      <th>SMA_Slow</th>\n",
       "    </tr>\n",
       "    <tr>\n",
       "      <th>date</th>\n",
       "      <th></th>\n",
       "      <th></th>\n",
       "    </tr>\n",
       "  </thead>\n",
       "  <tbody>\n",
       "    <tr>\n",
       "      <th>2018-10-24 15:15:00</th>\n",
       "      <td>15.65250</td>\n",
       "      <td>16.3403</td>\n",
       "    </tr>\n",
       "    <tr>\n",
       "      <th>2018-10-24 15:30:00</th>\n",
       "      <td>15.61875</td>\n",
       "      <td>16.3216</td>\n",
       "    </tr>\n",
       "    <tr>\n",
       "      <th>2018-10-24 15:45:00</th>\n",
       "      <td>15.55375</td>\n",
       "      <td>16.3029</td>\n",
       "    </tr>\n",
       "    <tr>\n",
       "      <th>2018-10-25 09:30:00</th>\n",
       "      <td>15.47625</td>\n",
       "      <td>16.2844</td>\n",
       "    </tr>\n",
       "    <tr>\n",
       "      <th>2018-10-25 09:45:00</th>\n",
       "      <td>15.40250</td>\n",
       "      <td>16.2656</td>\n",
       "    </tr>\n",
       "  </tbody>\n",
       "</table>\n",
       "</div>"
      ],
      "text/plain": [
       "                     SMA_Fast  SMA_Slow\n",
       "date                                   \n",
       "2018-10-24 15:15:00  15.65250   16.3403\n",
       "2018-10-24 15:30:00  15.61875   16.3216\n",
       "2018-10-24 15:45:00  15.55375   16.3029\n",
       "2018-10-25 09:30:00  15.47625   16.2844\n",
       "2018-10-25 09:45:00  15.40250   16.2656"
      ]
     },
     "execution_count": 13,
     "metadata": {},
     "output_type": "execute_result"
    }
   ],
   "source": [
    "# Generate the X_train and y_train DataFrames\n",
    "X_train = X.loc[training_begin:training_end]\n",
    "y_train = y.loc[training_begin:training_end]\n",
    "\n",
    "# Review the X_train DataFrame\n",
    "X_train.head()"
   ]
  },
  {
   "cell_type": "code",
   "execution_count": 14,
   "metadata": {},
   "outputs": [
    {
     "data": {
      "text/html": [
       "<div>\n",
       "<style scoped>\n",
       "    .dataframe tbody tr th:only-of-type {\n",
       "        vertical-align: middle;\n",
       "    }\n",
       "\n",
       "    .dataframe tbody tr th {\n",
       "        vertical-align: top;\n",
       "    }\n",
       "\n",
       "    .dataframe thead th {\n",
       "        text-align: right;\n",
       "    }\n",
       "</style>\n",
       "<table border=\"1\" class=\"dataframe\">\n",
       "  <thead>\n",
       "    <tr style=\"text-align: right;\">\n",
       "      <th></th>\n",
       "      <th>SMA_Fast</th>\n",
       "      <th>SMA_Slow</th>\n",
       "    </tr>\n",
       "    <tr>\n",
       "      <th>date</th>\n",
       "      <th></th>\n",
       "      <th></th>\n",
       "    </tr>\n",
       "  </thead>\n",
       "  <tbody>\n",
       "    <tr>\n",
       "      <th>2018-10-24 15:15:00</th>\n",
       "      <td>15.65250</td>\n",
       "      <td>16.3403</td>\n",
       "    </tr>\n",
       "    <tr>\n",
       "      <th>2018-10-24 15:30:00</th>\n",
       "      <td>15.61875</td>\n",
       "      <td>16.3216</td>\n",
       "    </tr>\n",
       "    <tr>\n",
       "      <th>2018-10-24 15:45:00</th>\n",
       "      <td>15.55375</td>\n",
       "      <td>16.3029</td>\n",
       "    </tr>\n",
       "    <tr>\n",
       "      <th>2018-10-25 09:30:00</th>\n",
       "      <td>15.47625</td>\n",
       "      <td>16.2844</td>\n",
       "    </tr>\n",
       "    <tr>\n",
       "      <th>2018-10-25 09:45:00</th>\n",
       "      <td>15.40250</td>\n",
       "      <td>16.2656</td>\n",
       "    </tr>\n",
       "  </tbody>\n",
       "</table>\n",
       "</div>"
      ],
      "text/plain": [
       "                     SMA_Fast  SMA_Slow\n",
       "date                                   \n",
       "2018-10-24 15:15:00  15.65250   16.3403\n",
       "2018-10-24 15:30:00  15.61875   16.3216\n",
       "2018-10-24 15:45:00  15.55375   16.3029\n",
       "2018-10-25 09:30:00  15.47625   16.2844\n",
       "2018-10-25 09:45:00  15.40250   16.2656"
      ]
     },
     "execution_count": 14,
     "metadata": {},
     "output_type": "execute_result"
    }
   ],
   "source": [
    "# Generate the X_test and y_test DataFrames\n",
    "X_test = X.loc[training_end+DateOffset(hours=1):]\n",
    "y_test = y.loc[training_end+DateOffset(hours=1):]\n",
    "\n",
    "# Review the X_test DataFrame\n",
    "X_train.head()"
   ]
  },
  {
   "cell_type": "code",
   "execution_count": 15,
   "metadata": {},
   "outputs": [],
   "source": [
    "# Scale the features DataFrames\n",
    "\n",
    "# Create a StandardScaler instance\n",
    "scaler = StandardScaler()\n",
    "\n",
    "# Apply the scaler model to fit the X-train data\n",
    "X_scaler = scaler.fit(X_train)\n",
    "\n",
    "# Transform the X_train and X_test DataFrames using the X_scaler\n",
    "X_train_scaled = X_scaler.transform(X_train)\n",
    "X_test_scaled = X_scaler.transform(X_test)"
   ]
  },
  {
   "cell_type": "markdown",
   "metadata": {},
   "source": [
    "### Step 4: Use the `SVC` classifier model from SKLearn's support vector machine (SVM) learning method to fit the training data and make predictions based on the testing data. Review the predictions."
   ]
  },
  {
   "cell_type": "code",
   "execution_count": 16,
   "metadata": {},
   "outputs": [
    {
     "data": {
      "text/plain": [
       "array([1., 1., 1., 1., 1., 1., 1., 1., 1., 1.])"
      ]
     },
     "execution_count": 16,
     "metadata": {},
     "output_type": "execute_result"
    }
   ],
   "source": [
    "# From SVM, instantiate SVC classifier model instance\n",
    "svm_model = svm.SVC()\n",
    "\n",
    "# Fit the model to the data using the training data\n",
    "svm_model = svm_model.fit(X_train_scaled, y_train)\n",
    " \n",
    "# Use the testing data to make the model predictions\n",
    "svm_pred = svm_model.predict(X_test_scaled)\n",
    "\n",
    "# Review the model's predicted values\n",
    "svm_pred[:10]\n"
   ]
  },
  {
   "cell_type": "markdown",
   "metadata": {},
   "source": [
    "### Step 5: Review the classification report associated with the `SVC` model predictions. "
   ]
  },
  {
   "cell_type": "code",
   "execution_count": 17,
   "metadata": {},
   "outputs": [
    {
     "name": "stdout",
     "output_type": "stream",
     "text": [
      "              precision    recall  f1-score   support\n",
      "\n",
      "        -1.0       0.00      0.00      0.00      4892\n",
      "         1.0       0.53      1.00      0.69      5557\n",
      "\n",
      "    accuracy                           0.53     10449\n",
      "   macro avg       0.27      0.50      0.35     10449\n",
      "weighted avg       0.28      0.53      0.37     10449\n",
      "\n"
     ]
    },
    {
     "name": "stderr",
     "output_type": "stream",
     "text": [
      "C:\\Users\\Vincent\\.conda\\envs\\p2\\lib\\site-packages\\sklearn\\metrics\\_classification.py:1318: UndefinedMetricWarning: Precision and F-score are ill-defined and being set to 0.0 in labels with no predicted samples. Use `zero_division` parameter to control this behavior.\n",
      "  _warn_prf(average, modifier, msg_start, len(result))\n",
      "C:\\Users\\Vincent\\.conda\\envs\\p2\\lib\\site-packages\\sklearn\\metrics\\_classification.py:1318: UndefinedMetricWarning: Precision and F-score are ill-defined and being set to 0.0 in labels with no predicted samples. Use `zero_division` parameter to control this behavior.\n",
      "  _warn_prf(average, modifier, msg_start, len(result))\n",
      "C:\\Users\\Vincent\\.conda\\envs\\p2\\lib\\site-packages\\sklearn\\metrics\\_classification.py:1318: UndefinedMetricWarning: Precision and F-score are ill-defined and being set to 0.0 in labels with no predicted samples. Use `zero_division` parameter to control this behavior.\n",
      "  _warn_prf(average, modifier, msg_start, len(result))\n"
     ]
    }
   ],
   "source": [
    "# Use a classification report to evaluate the model using the predictions and testing data\n",
    "svm_testing_report = classification_report(y_test, svm_pred)\n",
    "\n",
    "# Print the classification report\n",
    "print(svm_testing_report)\n"
   ]
  },
  {
   "cell_type": "markdown",
   "metadata": {},
   "source": [
    "### Step 6: Create a predictions DataFrame that contains columns for “Predicted” values, “Actual Returns”, and “Strategy Returns”."
   ]
  },
  {
   "cell_type": "code",
   "execution_count": null,
   "metadata": {},
   "outputs": [],
   "source": [
    "# Create a new empty predictions DataFrame.\n",
    "\n",
    "# Create a predictions DataFrame\n",
    "predictions_df = # YOUR CODE HERE\n",
    "\n",
    "# Add the SVM model predictions to the DataFrame\n",
    "predictions_df['Predicted'] = # YOUR CODE HERE\n",
    "\n",
    "# Add the actual returns to the DataFrame\n",
    "predictions_df['Actual Returns'] = # YOUR CODE HERE\n",
    "\n",
    "# Add the strategy returns to the DataFrame\n",
    "predictions_df['Strategy Returns'] = # YOUR CODE HERE\n",
    "\n",
    "# Review the DataFrame\n",
    "display(predictions_df.head())\n",
    "display(predictions_df.tail())"
   ]
  },
  {
   "cell_type": "markdown",
   "metadata": {},
   "source": [
    "### Step 7: Create a cumulative return plot that shows the actual returns vs. the strategy returns. Save a PNG image of this plot. This will serve as a baseline against which to compare the effects of tuning the trading algorithm."
   ]
  },
  {
   "cell_type": "code",
   "execution_count": null,
   "metadata": {},
   "outputs": [],
   "source": [
    "# Plot the actual returns versus the strategy returns\n",
    "# YOUR CODE HERE\n"
   ]
  },
  {
   "cell_type": "markdown",
   "metadata": {},
   "source": [
    "---\n",
    "\n",
    "## Tune the Baseline Trading Algorithm"
   ]
  },
  {
   "cell_type": "markdown",
   "metadata": {},
   "source": [
    "## Step 6: Use an Alternative ML Model and Evaluate Strategy Returns"
   ]
  },
  {
   "cell_type": "markdown",
   "metadata": {},
   "source": [
    "In this section, you’ll tune, or adjust, the model’s input features to find the parameters that result in the best trading outcomes. You’ll choose the best by comparing the cumulative products of the strategy returns."
   ]
  },
  {
   "cell_type": "markdown",
   "metadata": {},
   "source": [
    "### Step 1: Tune the training algorithm by adjusting the size of the training dataset. \n",
    "\n",
    "To do so, slice your data into different periods. Rerun the notebook with the updated parameters, and record the results in your `README.md` file. \n",
    "\n",
    "Answer the following question: What impact resulted from increasing or decreasing the training window?"
   ]
  },
  {
   "cell_type": "markdown",
   "metadata": {},
   "source": [
    "### Step 2: Tune the trading algorithm by adjusting the SMA input features. \n",
    "\n",
    "Adjust one or both of the windows for the algorithm. Rerun the notebook with the updated parameters, and record the results in your `README.md` file. \n",
    "\n",
    "Answer the following question: What impact resulted from increasing or decreasing either or both of the SMA windows?"
   ]
  },
  {
   "cell_type": "markdown",
   "metadata": {},
   "source": [
    "### Step 3: Choose the set of parameters that best improved the trading algorithm returns. \n",
    "\n",
    "Save a PNG image of the cumulative product of the actual returns vs. the strategy returns, and document your conclusion in your `README.md` file."
   ]
  },
  {
   "cell_type": "markdown",
   "metadata": {},
   "source": [
    "---\n",
    "\n",
    "## Evaluate a New Machine Learning Classifier\n",
    "\n",
    "In this section, you’ll use the original parameters that the starter code provided. But, you’ll apply them to the performance of a second machine learning model. "
   ]
  },
  {
   "cell_type": "markdown",
   "metadata": {},
   "source": [
    "### Step 1:  Import a new classifier, such as `AdaBoost`, `DecisionTreeClassifier`, or `LogisticRegression`. (For the full list of classifiers, refer to the [Supervised learning page](https://scikit-learn.org/stable/supervised_learning.html) in the scikit-learn documentation.)"
   ]
  },
  {
   "cell_type": "code",
   "execution_count": null,
   "metadata": {},
   "outputs": [],
   "source": [
    "# Import a new classifier from SKLearn\n",
    "# YOUR CODE HERE\n",
    "\n",
    "# Initiate the model instance\n",
    "# YOUR CODE HERE\n"
   ]
  },
  {
   "cell_type": "markdown",
   "metadata": {},
   "source": [
    "### Step 2: Using the original training data as the baseline model, fit another model with the new classifier."
   ]
  },
  {
   "cell_type": "code",
   "execution_count": null,
   "metadata": {},
   "outputs": [],
   "source": [
    "# Fit the model using the training data\n",
    "model = # YOUR CODE HERE\n",
    "\n",
    "# Use the testing dataset to generate the predictions for the new model\n",
    "pred = # YOUR CODE HERE\n",
    "\n",
    "# Review the model's predicted values\n",
    "# YOUR CODE HERE\n"
   ]
  },
  {
   "cell_type": "markdown",
   "metadata": {},
   "source": [
    "### Step 3: Backtest the new model to evaluate its performance. \n",
    "\n",
    "Save a PNG image of the cumulative product of the actual returns vs. the strategy returns for this updated trading algorithm, and write your conclusions in your `README.md` file. \n",
    "\n",
    "Answer the following questions: \n",
    "Did this new model perform better or worse than the provided baseline model? \n",
    "Did this new model perform better or worse than your tuned trading algorithm?"
   ]
  },
  {
   "cell_type": "code",
   "execution_count": null,
   "metadata": {},
   "outputs": [],
   "source": [
    "# Use a classification report to evaluate the model using the predictions and testing data\n",
    "# YOUR CODE HERE\n",
    "\n",
    "# Print the classification report\n",
    "# YOUR CODE HERE\n"
   ]
  },
  {
   "cell_type": "code",
   "execution_count": null,
   "metadata": {},
   "outputs": [],
   "source": [
    "# Create a new empty predictions DataFrame.\n",
    "\n",
    "# Create a predictions DataFrame\n",
    "# YOUR CODE HERE\n",
    "\n",
    "# Add the SVM model predictions to the DataFrame\n",
    "# YOUR CODE HERE\n",
    "\n",
    "# Add the actual returns to the DataFrame\n",
    "# YOUR CODE HERE\n",
    "\n",
    "# Add the strategy returns to the DataFrame\n",
    "# YOUR CODE HERE\n",
    "\n",
    "# Review the DataFrame\n",
    "# YOUR CODE HERE\n"
   ]
  },
  {
   "cell_type": "code",
   "execution_count": null,
   "metadata": {},
   "outputs": [],
   "source": [
    "# Plot the actual returns versus the strategy returns\n",
    "# YOUR CODE HERE"
   ]
  },
  {
   "cell_type": "code",
   "execution_count": null,
   "metadata": {},
   "outputs": [],
   "source": []
  }
 ],
 "metadata": {
  "interpreter": {
   "hash": "1b8d2b8336021f1625f43bea189960d31b14cee4ef5dd500cff33471658fed61"
  },
  "kernelspec": {
   "display_name": "Python (dev)",
   "language": "python",
   "name": "python3"
  },
  "language_info": {
   "codemirror_mode": {
    "name": "ipython",
    "version": 3
   },
   "file_extension": ".py",
   "mimetype": "text/x-python",
   "name": "python",
   "nbconvert_exporter": "python",
   "pygments_lexer": "ipython3",
   "version": "3.9.7"
  }
 },
 "nbformat": 4,
 "nbformat_minor": 4
}
